{
 "cells": [
  {
   "cell_type": "markdown",
   "id": "a52aa894-4baf-4254-94f4-8e7a74bdefb4",
   "metadata": {},
   "source": [
    "# <span style=\"color:green\">For Loop Assignment Questions</span>"
   ]
  },
  {
   "cell_type": "code",
   "execution_count": 24,
   "id": "f13b6d22-a059-4315-a64e-b2e32ced50b8",
   "metadata": {
    "tags": []
   },
   "outputs": [],
   "source": [
    "import numpy as np\n",
    "import math\n",
    "from collections import Counter\n",
    "import statistics\n",
    "from math import factorial"
   ]
  },
  {
   "cell_type": "markdown",
   "id": "6da237e9-a963-40de-a19d-167e94544848",
   "metadata": {},
   "source": [
    "## <span style=\"color:orange\">A. Basic Level</span>"
   ]
  },
  {
   "cell_type": "markdown",
   "id": "f4b707b6-2c07-4e12-aa51-eba3ca607f7c",
   "metadata": {},
   "source": [
    "1. Write a Python program to print the numbers from 1 to 10 using a `for` loop."
   ]
  },
  {
   "cell_type": "code",
   "execution_count": 92,
   "id": "689a2c96-fd6d-4e04-8561-48ae7b35af6d",
   "metadata": {
    "tags": []
   },
   "outputs": [
    {
     "name": "stdout",
     "output_type": "stream",
     "text": [
      "1 2 3 4 5 6 7 8 9 10 "
     ]
    }
   ],
   "source": [
    "for i in range(1,11):\n",
    "    print(i, end = ' ')"
   ]
  },
  {
   "cell_type": "markdown",
   "id": "aad30b3f-e87f-454e-9d1c-89fa5df81a5c",
   "metadata": {},
   "source": [
    "2. Create a program that calculates the sum of all numbers in a list using a `for` loop."
   ]
  },
  {
   "cell_type": "code",
   "execution_count": 93,
   "id": "1344a0fd-798c-439c-96b9-1b8274b1eb15",
   "metadata": {
    "tags": []
   },
   "outputs": [
    {
     "name": "stdout",
     "output_type": "stream",
     "text": [
      "The sum of numbers in the given list is 15\n"
     ]
    }
   ],
   "source": [
    "# Create a list\n",
    "list1 = [1,2,3,4,5]\n",
    "# Define a variable to store the sum\n",
    "j = 0\n",
    "for i in list1:\n",
    "    j += i    # Store the sum in j\n",
    "print(f\"The sum of numbers in the given list is {j}\")"
   ]
  },
  {
   "cell_type": "markdown",
   "id": "d9a8429b-4e59-40bc-af1d-92385acf82ce",
   "metadata": {},
   "source": [
    "3. Write a program to print the characters of a string in reverse order using a `for` loop."
   ]
  },
  {
   "cell_type": "code",
   "execution_count": 94,
   "id": "8b396c64-5eeb-45ad-a3a1-f36892c700ab",
   "metadata": {
    "tags": []
   },
   "outputs": [
    {
     "name": "stdout",
     "output_type": "stream",
     "text": [
      "The characters in reversed order in the given string are  rahkehsardnahC\n"
     ]
    }
   ],
   "source": [
    "# Define a string \n",
    "string = 'Chandrashekhar'\n",
    "\n",
    "# Use built-in reverse function for indexing the string in reverse direction\n",
    "rev_char = ' '\n",
    "for i in reversed(range(len(string))):\n",
    "    rev_char += string[i]\n",
    "print(\"The characters in reversed order in the given string are\", rev_char)"
   ]
  },
  {
   "cell_type": "code",
   "execution_count": 95,
   "id": "5a7df321-742d-4368-87cd-6d3a41bf64e2",
   "metadata": {
    "tags": []
   },
   "outputs": [
    {
     "name": "stdout",
     "output_type": "stream",
     "text": [
      "r a h k e h s a r d n a h C "
     ]
    }
   ],
   "source": [
    "# Another approach\n",
    "# Define a string \n",
    "string = 'Chandrashekhar'\n",
    "\n",
    "# Use built-in reverse function for indexing the string in reverse direction\n",
    "for i in reversed(range(len(string))):\n",
    "    print(string[i], end = ' ')"
   ]
  },
  {
   "cell_type": "code",
   "execution_count": 96,
   "id": "143ef72a-b4dc-4662-968c-397a43f5bbc4",
   "metadata": {
    "tags": []
   },
   "outputs": [
    {
     "name": "stdin",
     "output_type": "stream",
     "text": [
      "Enter the string pwskills\n"
     ]
    },
    {
     "name": "stdout",
     "output_type": "stream",
     "text": [
      "The characters in the reversed order in the given string are ['s', 'l', 'l', 'i', 'k', 's', 'w', 'p']\n"
     ]
    }
   ],
   "source": [
    "# Or we can define a function\n",
    "def char_rev(string):\n",
    "    string = str(input(\"Enter the string\"))\n",
    "    rev_char_list = []\n",
    "    for i in reversed(range(len(string))):\n",
    "        rev_char_list.append(string[i])\n",
    "    return rev_char_list\n",
    "rev_char_list = char_rev(string)\n",
    "print(\"The characters in the reversed order in the given string are\", rev_char_list)"
   ]
  },
  {
   "cell_type": "markdown",
   "id": "8efd0a79-d3be-4b46-acd4-1b387e3cc98f",
   "metadata": {},
   "source": [
    "4. Develop a program that finds the factorial of a given number using a `for` loop."
   ]
  },
  {
   "cell_type": "code",
   "execution_count": 97,
   "id": "2cfa32d1-e012-4fd3-b5b4-541f6ba287de",
   "metadata": {},
   "outputs": [
    {
     "name": "stdin",
     "output_type": "stream",
     "text": [
      "Enter the number:  10\n"
     ]
    },
    {
     "name": "stdout",
     "output_type": "stream",
     "text": [
      "10! = 3628800\n"
     ]
    }
   ],
   "source": [
    "def factorial_of_no(number):\n",
    "    result = 1\n",
    "    for i in range(1, number + 1):\n",
    "        result *= i\n",
    "    return result\n",
    "\n",
    "number = int(input(\"Enter the number: \"))  # Get input from the user\n",
    "fact_no = factorial_of_no(number)\n",
    "print(f\"{number}! =\", fact_no)"
   ]
  },
  {
   "cell_type": "markdown",
   "id": "6d23c640-2364-4158-9b68-d8a34713e744",
   "metadata": {},
   "source": [
    "5. Create a program to print the multiplication table of a given number using a `for` loop."
   ]
  },
  {
   "cell_type": "code",
   "execution_count": 98,
   "id": "654c2ca0-df7b-43e0-a589-c501b9667220",
   "metadata": {},
   "outputs": [
    {
     "name": "stdin",
     "output_type": "stream",
     "text": [
      "Enter the number:  29\n"
     ]
    },
    {
     "name": "stdout",
     "output_type": "stream",
     "text": [
      "29 58 87 116 145 174 203 232 261 290 "
     ]
    }
   ],
   "source": [
    "def mult_table(number):\n",
    "    for i in range(1, 11):\n",
    "        print(i*number, end = ' ')\n",
    "number = int(input(\"Enter the number: \"))\n",
    "mult_table(number)"
   ]
  },
  {
   "cell_type": "markdown",
   "id": "e26afac8-b0db-4491-991d-061fee697ab2",
   "metadata": {},
   "source": [
    "6. Write a program that counts the number of even and odd numbers in a list using a `for` loop."
   ]
  },
  {
   "cell_type": "code",
   "execution_count": 99,
   "id": "d6992d41-9546-4d41-b4a9-6cc998b4d327",
   "metadata": {},
   "outputs": [
    {
     "name": "stdout",
     "output_type": "stream",
     "text": [
      "Number of even numbers in given list is 5\n",
      "Number of odd numbers in given list is 5\n"
     ]
    }
   ],
   "source": [
    "list1 = [1,2,3,4,5,6,7,8,9,10]\n",
    "even_list = []\n",
    "odd_list = []\n",
    "for i in list1:\n",
    "    if i%2 == 0:\n",
    "        even_list.append(i)\n",
    "    else:\n",
    "        odd_list.append(i)\n",
    "print(f\"Number of even numbers in given list is {len(even_list)}\")\n",
    "print(f\"Number of odd numbers in given list is {len(odd_list)}\")"
   ]
  },
  {
   "cell_type": "markdown",
   "id": "40f2ff54-17a5-4c03-9285-0790d71d572f",
   "metadata": {},
   "source": [
    "7. Develop a program that prints the squares of numbers from 1 to 5 using a `for` loop."
   ]
  },
  {
   "cell_type": "code",
   "execution_count": 100,
   "id": "4ff5abff-3433-45f1-900a-416429798254",
   "metadata": {},
   "outputs": [
    {
     "name": "stdout",
     "output_type": "stream",
     "text": [
      "1 4 9 16 25 "
     ]
    }
   ],
   "source": [
    "# Method 1\n",
    "for i in range(1, 6):\n",
    "    j = i**2\n",
    "    print(j, end = ' ')"
   ]
  },
  {
   "cell_type": "code",
   "execution_count": 101,
   "id": "f37f1696-d74f-4f77-9ba7-a50b8ac709c3",
   "metadata": {},
   "outputs": [
    {
     "name": "stdout",
     "output_type": "stream",
     "text": [
      "List of squares of numbers from 1 to 5 is [1, 4, 9, 16, 25]\n"
     ]
    }
   ],
   "source": [
    "# Method 2\n",
    "sq_list = [i**2 for i in range(1,6)]\n",
    "print(f\"List of squares of numbers from 1 to 5 is {sq_list}\")"
   ]
  },
  {
   "cell_type": "markdown",
   "id": "af9cff72-f4ef-4221-8e26-34b1a4372e2e",
   "metadata": {},
   "source": [
    "8. Create a program to find the length of a string without using the `len()` function."
   ]
  },
  {
   "cell_type": "code",
   "execution_count": 102,
   "id": "de26065c-7d1b-41fb-9b3a-2b4f98639e10",
   "metadata": {},
   "outputs": [
    {
     "name": "stdout",
     "output_type": "stream",
     "text": [
      "Length of the string: 14\n"
     ]
    }
   ],
   "source": [
    "string = \"Chandrashekhar\"\n",
    "count = 0\n",
    "\n",
    "for _ in string:\n",
    "    count += 1\n",
    "\n",
    "print(\"Length of the string:\", count)"
   ]
  },
  {
   "cell_type": "markdown",
   "id": "8bfd365d-bd7e-4103-80cb-4cddb2c6ef08",
   "metadata": {},
   "source": [
    "9. Write a program that calculates the average of a list of numbers using a `for` loop."
   ]
  },
  {
   "cell_type": "code",
   "execution_count": 103,
   "id": "f2607a76-9072-4434-8c53-e3dfc7d5ac9b",
   "metadata": {},
   "outputs": [
    {
     "name": "stdout",
     "output_type": "stream",
     "text": [
      "The average of numbers from the given list is  3.0\n"
     ]
    }
   ],
   "source": [
    "list1 = [1,2,3,4,5]\n",
    "j = 0\n",
    "for i in list1:\n",
    "    j += i\n",
    "avg = j/len(list1)\n",
    "print(\"The average of numbers from the given list is \", avg)"
   ]
  },
  {
   "cell_type": "markdown",
   "id": "c6df87ac-af85-4382-9399-48fff610ace6",
   "metadata": {},
   "source": [
    "10. Develop a program that prints the first `n` Fibonacci numbers using a `for` loop."
   ]
  },
  {
   "cell_type": "code",
   "execution_count": 104,
   "id": "b4adeb17-c6f6-43d4-9f65-d02f64e30800",
   "metadata": {},
   "outputs": [
    {
     "name": "stdin",
     "output_type": "stream",
     "text": [
      "Enter the value of n:  10\n"
     ]
    },
    {
     "name": "stdout",
     "output_type": "stream",
     "text": [
      "The first 10 Fibonacci numbers are:\n",
      "0 1 1 2 3 5 8 13 21 34 "
     ]
    }
   ],
   "source": [
    "n = int(input(\"Enter the value of n: \"))\n",
    "\n",
    "# Initialize the first two Fibonacci numbers\n",
    "fibonacci_sequence = [0, 1]\n",
    "\n",
    "for i in range(2, n):\n",
    "    next_fibonacci = fibonacci_sequence[-1] + fibonacci_sequence[-2]\n",
    "    fibonacci_sequence.append(next_fibonacci)\n",
    "\n",
    "# Print the first n Fibonacci numbers\n",
    "print(f\"The first {n} Fibonacci numbers are:\")\n",
    "for num in fibonacci_sequence:\n",
    "    print(num, end = \" \")"
   ]
  },
  {
   "cell_type": "markdown",
   "id": "d40d8f11-60cf-444c-b85e-80e0aba9f7c3",
   "metadata": {},
   "source": [
    "## <span style=\"color:orange\">B. Intermediate Level</span>"
   ]
  },
  {
   "cell_type": "markdown",
   "id": "83fdb393-bb31-4c3d-9e88-9f27285f1861",
   "metadata": {},
   "source": [
    "11. Write a program to check if a given list contains any duplicates using a `for` loop."
   ]
  },
  {
   "cell_type": "code",
   "execution_count": 105,
   "id": "a36492c6-3ea8-443d-9137-c71f64f7e9ac",
   "metadata": {},
   "outputs": [
    {
     "name": "stdout",
     "output_type": "stream",
     "text": [
      "The list contains duplicates: [1, 2, 3, 4, 5, 6]\n"
     ]
    }
   ],
   "source": [
    "# We can find the duplicates in the list using double for loop\n",
    "def find_duplicates(input_list):\n",
    "    duplicates = []\n",
    "    for i in range(len(input_list)):\n",
    "        for j in range(i + 1, len(input_list)):\n",
    "            if input_list[i] == input_list[j]:\n",
    "                if input_list[i] not in duplicates:\n",
    "                    duplicates.append(input_list[i])\n",
    "\n",
    "    return duplicates\n",
    "\n",
    "list1 = [1,1,2,2,3,3,4,4,5,5,6,6,7,8,9,10]\n",
    "duplicate_elements = find_duplicates(list1)\n",
    "\n",
    "if len(duplicate_elements) > 0:\n",
    "    print(\"The list contains duplicates:\", duplicate_elements)\n",
    "else:\n",
    "    print(\"The list does not contain duplicates.\")"
   ]
  },
  {
   "cell_type": "code",
   "execution_count": 106,
   "id": "90e7f2f2-5008-4eea-8e0f-e86f23c05b18",
   "metadata": {},
   "outputs": [
    {
     "name": "stdout",
     "output_type": "stream",
     "text": [
      "The list does not contain duplicates.\n"
     ]
    }
   ],
   "source": [
    "list2 = [1,2,3,4,5]\n",
    "duplicate_elements = find_duplicates(list2)\n",
    "\n",
    "if len(duplicate_elements) > 0:\n",
    "    print(\"The list contains duplicates:\", duplicate_elements)\n",
    "else:\n",
    "    print(\"The list does not contain duplicates.\")"
   ]
  },
  {
   "cell_type": "markdown",
   "id": "a1b172d6-fdae-4a2d-8e64-18d3c0425035",
   "metadata": {},
   "source": [
    "12. Create a program that prints the prime numbers in a given range using a `for` loop."
   ]
  },
  {
   "cell_type": "code",
   "execution_count": 107,
   "id": "4b303a2a-e7f4-4aaf-9dd8-b4e40ccccd05",
   "metadata": {},
   "outputs": [
    {
     "name": "stdin",
     "output_type": "stream",
     "text": [
      "Enter the Number:  100\n"
     ]
    },
    {
     "name": "stdout",
     "output_type": "stream",
     "text": [
      "Prime numbers up to 100 are: [2, 3, 5, 7, 11, 13, 17, 19, 23, 29, 31, 37, 41, 43, 47, 53, 59, 61, 67, 71, 73, 79, 83, 89, 97]\n"
     ]
    }
   ],
   "source": [
    "# We have to define a function that checks whether the given number is prime or not\n",
    "# We know from number theory that \"If n is a positive integer greater than 1 which is not a prime then it is     \n",
    "# divisible by some prime number p <= sqrt(n)\"\n",
    "\n",
    "def is_prime(n):\n",
    "    if n <= 1:\n",
    "        return False\n",
    "    for i in range(2, int(n**0.5) + 1):\n",
    "        if n % i == 0:\n",
    "            return False\n",
    "    return True\n",
    "\n",
    "def prime_numbers(number):\n",
    "    prime_no_list = []\n",
    "    for i in range(2, number + 1):\n",
    "        if is_prime(i):\n",
    "            prime_no_list.append(i)\n",
    "    return prime_no_list\n",
    "\n",
    "number = int(input(\"Enter the Number: \"))\n",
    "output_list = prime_numbers(number)\n",
    "print(\"Prime numbers up to\", number, \"are:\", output_list)"
   ]
  },
  {
   "cell_type": "markdown",
   "id": "1687d913-4af7-43bd-9ab6-2d8d4e2ce79e",
   "metadata": {},
   "source": [
    "13. Develop a program that counts the number of vowels in a string using a `for` loop."
   ]
  },
  {
   "cell_type": "code",
   "execution_count": 108,
   "id": "2c1196f9-33d4-4434-a857-357b7d21517b",
   "metadata": {},
   "outputs": [
    {
     "name": "stdout",
     "output_type": "stream",
     "text": [
      "Vowels in given string are {'i', 'a'}\n"
     ]
    }
   ],
   "source": [
    "vowels = ['a','e','i','o','u']\n",
    "string = \"Vaishali\"\n",
    "vowels_in_string = []\n",
    "for i in string:\n",
    "    if i in vowels:\n",
    "        vowels_in_string.append(i)\n",
    "print(\"Vowels in given string are\", set(vowels_in_string))    "
   ]
  },
  {
   "cell_type": "markdown",
   "id": "e0b68ad8-6d42-48d1-bd5a-48426d8ed97a",
   "metadata": {},
   "source": [
    "14. Write a program to find the maximum element in a 2D list using a nested `for` loop."
   ]
  },
  {
   "cell_type": "code",
   "execution_count": 109,
   "id": "b6bfcf09-c48f-4032-953f-245093bc0be2",
   "metadata": {},
   "outputs": [
    {
     "name": "stdout",
     "output_type": "stream",
     "text": [
      "The maximum element in the 2D list is: 10\n"
     ]
    }
   ],
   "source": [
    "matrix = [[1,2,3,4,5], \n",
    "         [2,4,6,8,10], \n",
    "         [1,3,5,7,9]]\n",
    "\n",
    "max_value  = matrix[0][0]\n",
    "for list_item in matrix:\n",
    "    for element in list_item:\n",
    "        if element > max_value:\n",
    "            max_value = element\n",
    "\n",
    "print(\"The maximum element in the 2D list is:\", max_value)"
   ]
  },
  {
   "cell_type": "markdown",
   "id": "b6075c1d-434e-4f37-98aa-3bc41c814444",
   "metadata": {},
   "source": [
    "15. Create a program that removes all occurrences of a specific element from a list using a `for` loop."
   ]
  },
  {
   "cell_type": "code",
   "execution_count": 110,
   "id": "2a3bdd89-efc1-484b-80bd-0b3d0770aab4",
   "metadata": {},
   "outputs": [
    {
     "name": "stdout",
     "output_type": "stream",
     "text": [
      "List without element 'a' is  ['b', 'c', 'd', 'e', 'f', 'g', 'h']\n"
     ]
    }
   ],
   "source": [
    "list1 = ['a', 'b', 'c', 'a', 'd', 'e', 'f', 'a', 'g', 'h', 'a']\n",
    "\n",
    "new_list = [elt for elt in list1 if elt != 'a']   # Create a new list without element 'a'.\n",
    "\n",
    "print(\"List without element 'a' is \", new_list)"
   ]
  },
  {
   "cell_type": "markdown",
   "id": "15fc554e-3b88-464a-b38d-c02c2a727576",
   "metadata": {},
   "source": [
    "16. Develop a program that generates a multiplication table for numbers from 1 to 5 using a nested `for` loop."
   ]
  },
  {
   "cell_type": "code",
   "execution_count": 111,
   "id": "d660884b-a81f-4370-bea6-7b4eaf6400da",
   "metadata": {},
   "outputs": [
    {
     "name": "stdout",
     "output_type": "stream",
     "text": [
      "Multiplication table of 1: 1 2 3 4 5 6 7 8 9 10 \n",
      "Multiplication table of 2: 2 4 6 8 10 12 14 16 18 20 \n",
      "Multiplication table of 3: 3 6 9 12 15 18 21 24 27 30 \n",
      "Multiplication table of 4: 4 8 12 16 20 24 28 32 36 40 \n",
      "Multiplication table of 5: 5 10 15 20 25 30 35 40 45 50 \n"
     ]
    }
   ],
   "source": [
    "for i in range(1, 6):\n",
    "    print(f\"Multiplication table of {i}:\", end = ' ')\n",
    "    for j in range(1, 11):\n",
    "        print(i*j, end = ' ')\n",
    "    print()"
   ]
  },
  {
   "cell_type": "code",
   "execution_count": 112,
   "id": "e6f4be72-eb2c-4c9d-bf62-44b68aec8d94",
   "metadata": {},
   "outputs": [
    {
     "name": "stdout",
     "output_type": "stream",
     "text": [
      "Multiplication table of 1: 1 2 3 4 5 6 7 8 9 10 \n",
      "Multiplication table of 2: 2 4 6 8 10 12 14 16 18 20 \n",
      "Multiplication table of 3: 3 6 9 12 15 18 21 24 27 30 \n",
      "Multiplication table of 4: 4 8 12 16 20 24 28 32 36 40 \n",
      "Multiplication table of 5: 5 10 15 20 25 30 35 40 45 50 \n",
      "Multiplication table of 6: 6 12 18 24 30 36 42 48 54 60 \n",
      "Multiplication table of 7: 7 14 21 28 35 42 49 56 63 70 \n",
      "Multiplication table of 8: 8 16 24 32 40 48 56 64 72 80 \n",
      "Multiplication table of 9: 9 18 27 36 45 54 63 72 81 90 \n",
      "Multiplication table of 10: 10 20 30 40 50 60 70 80 90 100 \n"
     ]
    }
   ],
   "source": [
    "# by defining a function \n",
    "def print_multiplication_table(number, up_to=10):\n",
    "    print(f\"Multiplication table of {number}: \", end='')\n",
    "    for i in range(1, up_to + 1):\n",
    "        print(number * i, end=' ')\n",
    "    print()\n",
    "\n",
    "for i in range(1, 11):\n",
    "    print_multiplication_table(i)"
   ]
  },
  {
   "cell_type": "markdown",
   "id": "ed54952e-e203-43c2-ac6d-6c076feee0bc",
   "metadata": {},
   "source": [
    "17. Write a program that converts a list of Fahrenheit temperatures to Celsius using a `for` loop."
   ]
  },
  {
   "cell_type": "code",
   "execution_count": 113,
   "id": "5b9ffc37-9b47-44ca-a90e-b7bc67dcf883",
   "metadata": {},
   "outputs": [
    {
     "name": "stdout",
     "output_type": "stream",
     "text": [
      "List of degree celcius is [36.67, 37.78, 42.78, 48.89, 54.44]\n"
     ]
    }
   ],
   "source": [
    "# Conversion formula for degree Fahrenheit to celsius is c = (5/9)*(f - 32)\n",
    "list_far = [98, 100, 109, 120, 130]\n",
    "list_cel = []\n",
    "for i in list_far:\n",
    "    j = np.round((5/9)*(i - 32), 2)\n",
    "    list_cel.append(j)\n",
    "print(\"List of degree celcius is\",list_cel)"
   ]
  },
  {
   "cell_type": "markdown",
   "id": "1bf878bc-4100-41b8-a92d-601a47c62ebf",
   "metadata": {},
   "source": [
    "18. Create a program to print the common elements from two lists using a `for` loop."
   ]
  },
  {
   "cell_type": "code",
   "execution_count": 114,
   "id": "33e7aa19-a07c-4a2a-8715-e618f10ba17c",
   "metadata": {},
   "outputs": [
    {
     "name": "stdout",
     "output_type": "stream",
     "text": [
      "List of common elements in given lists is [5, 7, 9, 10]\n"
     ]
    }
   ],
   "source": [
    "list1 = [1,2,3,4,5,6,7,8,9,10]\n",
    "list2 = [11,7,9,10,12,5,15,20]\n",
    "\n",
    "common_elt = []\n",
    "for i in list1:\n",
    "    if i in list2:\n",
    "        common_elt.append(i)\n",
    "print(\"List of common elements in given lists is\",common_elt)"
   ]
  },
  {
   "cell_type": "markdown",
   "id": "851a5ff5-d339-4d52-8443-18f8bde5119c",
   "metadata": {},
   "source": [
    "19. Develop a program that prints the pattern of right-angled triangles using a `for` loop. Use ‘*’ to draw the\n",
    "    pattern"
   ]
  },
  {
   "cell_type": "code",
   "execution_count": 115,
   "id": "8573e3fc-ed70-4c37-a868-d4d39921e8fd",
   "metadata": {
    "tags": []
   },
   "outputs": [
    {
     "name": "stdout",
     "output_type": "stream",
     "text": [
      "* \n",
      "* * \n",
      "* * * \n",
      "* * * * \n",
      "* * * * * \n"
     ]
    }
   ],
   "source": [
    "for i in range(5):\n",
    "    for j in range(i+1):\n",
    "        print('*', end=' ')\n",
    "        continue\n",
    "    print()"
   ]
  },
  {
   "cell_type": "code",
   "execution_count": 116,
   "id": "5de7c8b5-7f3f-41e6-99f1-740300a78180",
   "metadata": {
    "tags": []
   },
   "outputs": [
    {
     "name": "stdout",
     "output_type": "stream",
     "text": [
      "* * * * * \n",
      "* * * * \n",
      "* * * \n",
      "* * \n",
      "* \n"
     ]
    }
   ],
   "source": [
    "for i in reversed(range(5)):\n",
    "    for j in range(i+1):\n",
    "        print('*', end=' ')\n",
    "        continue\n",
    "    print()"
   ]
  },
  {
   "cell_type": "markdown",
   "id": "17202775-adf2-4a19-a5d8-e1da60c40648",
   "metadata": {
    "tags": []
   },
   "source": [
    "20. Write a program to find the greatest common divisor (GCD) of two numbers using a `for` loop."
   ]
  },
  {
   "cell_type": "code",
   "execution_count": 118,
   "id": "01bd8171-1bce-4613-b233-ecd6f82ea325",
   "metadata": {
    "tags": []
   },
   "outputs": [
    {
     "name": "stdin",
     "output_type": "stream",
     "text": [
      "Enter the number1 250\n",
      "Enter the number2 150\n"
     ]
    },
    {
     "name": "stdout",
     "output_type": "stream",
     "text": [
      "The GCD of 250 and 150 is 50\n"
     ]
    }
   ],
   "source": [
    "num1 = int(input(\"Enter the number1\"))\n",
    "num2 = int(input(\"Enter the number2\"))\n",
    "\n",
    "divisor_list = []\n",
    "for i in range(1, min(num1,num2) + 1):\n",
    "    if (num1 % i == 0)&(num2 % i == 0):\n",
    "        divisor_list.append(i)\n",
    "gcd = max(divisor_list)\n",
    "print(f\"The GCD of {num1} and {num2} is {gcd}\")"
   ]
  },
  {
   "cell_type": "markdown",
   "id": "2a7f9431-1443-436a-935a-00e9f1c5aed8",
   "metadata": {},
   "source": [
    "## <span style=\"color:orange\">C. Advanced Level</span>"
   ]
  },
  {
   "cell_type": "markdown",
   "id": "4dbd2e64-9798-4646-9dde-dca7faa18681",
   "metadata": {},
   "source": [
    "21. Create a program that calculates the sum of the digits of numbers in a list using a list comprehension."
   ]
  },
  {
   "cell_type": "code",
   "execution_count": 119,
   "id": "424d6049-154a-4209-a533-aa467e910a96",
   "metadata": {
    "tags": []
   },
   "outputs": [
    {
     "name": "stdout",
     "output_type": "stream",
     "text": [
      "[3, 9, 9, 27, 25]\n"
     ]
    }
   ],
   "source": [
    "list1 = [12,243,342,4896,5299]\n",
    "sum_list = [sum(int(char) for char in str(x)) for x in list1]\n",
    "print(sum_list)"
   ]
  },
  {
   "cell_type": "markdown",
   "id": "9e3ce55a-6c33-4512-a50a-fa389384a2e8",
   "metadata": {},
   "source": [
    "22. Write a program to find the prime factors of a given number using a `for` loop and list comprehension."
   ]
  },
  {
   "cell_type": "code",
   "execution_count": 125,
   "id": "322d932b-1f49-492a-b5eb-a0d8e16d31eb",
   "metadata": {
    "tags": []
   },
   "outputs": [
    {
     "name": "stdin",
     "output_type": "stream",
     "text": [
      "Enter an integer 210\n"
     ]
    },
    {
     "name": "stdout",
     "output_type": "stream",
     "text": [
      "prime factors of 210 are [2, 3, 5, 7]\n"
     ]
    }
   ],
   "source": [
    "# Approach used by me\n",
    "def is_prime(num):\n",
    "    if num <= 1:\n",
    "        return False\n",
    "    if num <= 3:\n",
    "        return True\n",
    "    if num % 2 == 0 or num % 3 == 0:\n",
    "        return False\n",
    "    i = 5\n",
    "    while i * i <= num:\n",
    "        if num % i == 0 or num % (i + 2) == 0:\n",
    "            return False\n",
    "        i += 6 \n",
    "    return True\n",
    "\n",
    "num = int(input(\"Enter an integer\"))\n",
    "\n",
    "divisor_list = [i for i in range(1, num + 1) if ((num % i == 0) & (is_prime(i)))]\n",
    "print(f\"prime factors of {num} are\", divisor_list)"
   ]
  },
  {
   "cell_type": "code",
   "execution_count": 126,
   "id": "6d1bfa98-1707-4eb5-a3b9-9fc9bc560463",
   "metadata": {
    "tags": []
   },
   "outputs": [
    {
     "name": "stdin",
     "output_type": "stream",
     "text": [
      "Enter an integer:  210\n"
     ]
    },
    {
     "name": "stdout",
     "output_type": "stream",
     "text": [
      "Prime factors of 210: [2, 3, 5, 7]\n"
     ]
    }
   ],
   "source": [
    "# slight modification\n",
    "def is_prime(num):\n",
    "    if num <= 1:\n",
    "        return False\n",
    "    if num == 2 or num == 3:\n",
    "        return True\n",
    "    if num % 2 == 0 or num % 3 == 0:\n",
    "        return False\n",
    "    i = 5\n",
    "    w = 2\n",
    "    while i * i <= num:\n",
    "        if num % i == 0:\n",
    "            return False\n",
    "        i += w\n",
    "        w = 6 - w\n",
    "    return True\n",
    "\n",
    "def prime_factors(num):\n",
    "    factors = [i for i in range(2, num + 1) if num % i == 0 and is_prime(i)]\n",
    "    return factors\n",
    "\n",
    "num = int(input(\"Enter an integer: \"))\n",
    "prime_factors_list = prime_factors(num)\n",
    "print(f\"Prime factors of {num}: {prime_factors_list}\")"
   ]
  },
  {
   "cell_type": "code",
   "execution_count": 127,
   "id": "453bad42-a3d7-4c75-b159-36f382c72b80",
   "metadata": {
    "tags": []
   },
   "outputs": [
    {
     "name": "stdin",
     "output_type": "stream",
     "text": [
      "Enter an integer:  1090\n"
     ]
    },
    {
     "name": "stdout",
     "output_type": "stream",
     "text": [
      "Prime factors of 1090: [2, 5, 109]\n"
     ]
    }
   ],
   "source": [
    "# Another method\n",
    "\n",
    "def prime_factors(num):\n",
    "    factors = []\n",
    "    while num % 2 == 0:\n",
    "        factors.append(2)\n",
    "        num //= 2\n",
    "    for i in range(3, int(num**0.5) + 1, 2):\n",
    "        while num % i == 0:\n",
    "            factors.append(i)\n",
    "            num //= i\n",
    "    if num > 2:\n",
    "        factors.append(num)\n",
    "    \n",
    "    return factors\n",
    "\n",
    "num = int(input(\"Enter an integer: \"))\n",
    "prime_factors_list = prime_factors(num)\n",
    "print(f\"Prime factors of {num}: {prime_factors_list}\")"
   ]
  },
  {
   "cell_type": "markdown",
   "id": "c95a3dbf-4aef-4677-847b-9f3197c49f8c",
   "metadata": {
    "tags": []
   },
   "source": [
    "23. Develop a program that extracts unique elements from a list and stores them in a new list using a list\n",
    "    comprehension."
   ]
  },
  {
   "cell_type": "code",
   "execution_count": 128,
   "id": "e40a3bca-28c0-418a-8d1a-0ad10bdb3a4c",
   "metadata": {
    "tags": []
   },
   "outputs": [
    {
     "name": "stdout",
     "output_type": "stream",
     "text": [
      "[1, 9, 2, 3, 4, 5, 6]\n"
     ]
    }
   ],
   "source": [
    "list1 = [1,1,9,9,2,3,4,4,5,6,6]\n",
    "\n",
    "unique_list = [i for idx, i in enumerate(list1) if i not in list1[:idx]]\n",
    "print(unique_list)"
   ]
  },
  {
   "cell_type": "markdown",
   "id": "e577adbe-4caf-4769-bada-66847e79bf3a",
   "metadata": {
    "tags": []
   },
   "source": [
    "24. Create a program that generates a list of all palindromic numbers up to a specified limit using a list\n",
    "    comprehension."
   ]
  },
  {
   "cell_type": "code",
   "execution_count": 129,
   "id": "fb5e9ae2-5c54-4da1-af10-5202f481f3d6",
   "metadata": {
    "tags": []
   },
   "outputs": [
    {
     "name": "stdin",
     "output_type": "stream",
     "text": [
      "Enter the number upto which the palindromic number sequence is created 100\n"
     ]
    },
    {
     "name": "stdout",
     "output_type": "stream",
     "text": [
      "[1, 2, 3, 4, 5, 6, 7, 8, 9, 11, 22, 33, 44, 55, 66, 77, 88, 99]\n"
     ]
    }
   ],
   "source": [
    "# Palindromic numbers remains same even if the sequence of their digits is reversed\n",
    "\n",
    "n = int(input(\"Enter the number upto which the palindromic number sequence is created\"))\n",
    "\n",
    "palindrome_seq = [i for i in range(1, n + 1) if str(i) == str(i)[::-1]]\n",
    "\n",
    "print(palindrome_seq)"
   ]
  },
  {
   "cell_type": "markdown",
   "id": "5f800add-f79a-4519-b64a-e3868b5540db",
   "metadata": {
    "tags": []
   },
   "source": [
    "25. Write a program to flatten a nested list using list comprehension."
   ]
  },
  {
   "cell_type": "code",
   "execution_count": 130,
   "id": "cfac750d-1c85-497c-b377-6b75f266e105",
   "metadata": {
    "tags": []
   },
   "outputs": [],
   "source": [
    "# Using for loop and defining the function\n",
    "def flatten_nested_list(nested_list):\n",
    "    flat_list = []\n",
    "    for item in nested_list:\n",
    "        if isinstance(item, list):\n",
    "            flat_list.extend(flatten_nested_list(item))\n",
    "        else:\n",
    "            flat_list.append(item)\n",
    "    return flat_list"
   ]
  },
  {
   "cell_type": "code",
   "execution_count": 131,
   "id": "885d38c9-c1eb-4f38-af4b-4d3ff56b92e8",
   "metadata": {
    "tags": []
   },
   "outputs": [
    {
     "name": "stdout",
     "output_type": "stream",
     "text": [
      "Given list is [[1, 2], [4, 5, 6, [7, 8, [9, 10]]]]\n",
      "      flattened list is [1, 2, 4, 5, 6, 7, 8, 9, 10]\n"
     ]
    }
   ],
   "source": [
    "list1 = [[1,2],[4,5,6,[7,8,[9,10]]]]\n",
    "flat_list = flatten_nested_list(list1)\n",
    "print(f\"\"\"Given list is {list1}\n",
    "      flattened list is {flat_list}\"\"\")"
   ]
  },
  {
   "cell_type": "code",
   "execution_count": 132,
   "id": "149e4c89-295e-411e-b577-9cdcb2c3f65f",
   "metadata": {
    "tags": []
   },
   "outputs": [
    {
     "name": "stdout",
     "output_type": "stream",
     "text": [
      "Flattened list: [2, 3, 4, 5, 6, 7, 8]\n"
     ]
    }
   ],
   "source": [
    "nested_list = [1, [2, 3], [4, 5], [6, 7, 8], 9]\n",
    "flat_list =[item for sublist in nested_list if isinstance(sublist, list) for item in sublist]\n",
    "print(\"Flattened list:\", flat_list)"
   ]
  },
  {
   "cell_type": "markdown",
   "id": "eacb8866-19f2-4959-b664-8201a2bad80e",
   "metadata": {},
   "source": [
    "* List comprehension has some limitations in handeling all type of nested loops, but the function above it performs way better than list comprehension   in this case."
   ]
  },
  {
   "cell_type": "markdown",
   "id": "7bec15bb-2a64-452d-b599-6e0848789ecf",
   "metadata": {},
   "source": [
    "26. Develop a program that computes the sum of even and odd numbers in a list separately using list\n",
    "    comprehension."
   ]
  },
  {
   "cell_type": "code",
   "execution_count": 133,
   "id": "f9a9a447-232d-4b5f-a3c6-8f94f0682851",
   "metadata": {},
   "outputs": [
    {
     "name": "stdout",
     "output_type": "stream",
     "text": [
      "The sum of even numbers in the given list is: 30\n",
      "The sum of odd numbers in the given list is: 25\n"
     ]
    }
   ],
   "source": [
    "int_list = [1,2,3,4,5,6,7,8,9,10]\n",
    "\n",
    "even_no_sum = sum(i for i in int_list if i % 2 == 0)\n",
    "odd_no_sum = sum(i for i in int_list if i % 2 != 0)\n",
    "\n",
    "print(f\"The sum of even numbers in the given list is: {even_no_sum}\")\n",
    "print(f\"The sum of odd numbers in the given list is: {odd_no_sum}\")"
   ]
  },
  {
   "cell_type": "markdown",
   "id": "f6604cd6-9ba7-4137-bafb-5ca68cb9a37e",
   "metadata": {},
   "source": [
    "27. Create a program that generates a list of squares of odd numbers between 1 and 10 using list\n",
    "    comprehension."
   ]
  },
  {
   "cell_type": "code",
   "execution_count": 134,
   "id": "84ae7f1c-119a-4518-84b5-e1079f66004b",
   "metadata": {},
   "outputs": [
    {
     "name": "stdout",
     "output_type": "stream",
     "text": [
      "List of squares of odd numbers from 1 to 10 is [1, 9, 25, 49, 81]\n"
     ]
    }
   ],
   "source": [
    "int_list = [1,2,3,4,5,6,7,8,9,10]\n",
    "\n",
    "odd_no_squares = [i**2 for i in int_list if i % 2 != 0]\n",
    "\n",
    "print(f\"List of squares of odd numbers from 1 to 10 is {odd_no_squares}\")"
   ]
  },
  {
   "cell_type": "markdown",
   "id": "7460144f-234b-4760-81b3-04f3c4e2f2c9",
   "metadata": {},
   "source": [
    "28. Write a program that combines two lists into a dictionary using list comprehension."
   ]
  },
  {
   "cell_type": "code",
   "execution_count": 135,
   "id": "9ae97162-a249-41d0-aa5e-15b393c679ac",
   "metadata": {},
   "outputs": [
    {
     "name": "stdout",
     "output_type": "stream",
     "text": [
      "dictionary: {'Python': '1991', 'Java': '1995', 'Javascript': '1995', 'HTML': '1993', 'CSS': '1996'}\n"
     ]
    }
   ],
   "source": [
    "list1 = ['Python', 'Java', 'Javascript', 'HTML', 'CSS']\n",
    "list2 = ['1991','1995','1995','1993','1996']\n",
    "\n",
    "dictionary = {list1[i]: list2[i] for i in range(len(list1))}\n",
    "print(f\"dictionary: {dictionary}\")"
   ]
  },
  {
   "cell_type": "code",
   "execution_count": 136,
   "id": "d5ddd713-4aba-4c5a-9163-efa3f9ef421a",
   "metadata": {},
   "outputs": [
    {
     "name": "stdout",
     "output_type": "stream",
     "text": [
      "dictionary: {'Python': '1991', 'Java': '1995', 'Javascript': '1995', 'HTML': '1993', 'CSS': '1996'}\n"
     ]
    }
   ],
   "source": [
    "# Buit-in method in Python\n",
    "dictionary = dict(zip(list1, list2))\n",
    "print(f\"dictionary: {dictionary}\")"
   ]
  },
  {
   "cell_type": "markdown",
   "id": "ef5347d7-48f3-4739-8062-9493e979479d",
   "metadata": {},
   "source": [
    "29. Develop a program that extracts the vowels from a string and stores them in a list using list comprehension."
   ]
  },
  {
   "cell_type": "code",
   "execution_count": 137,
   "id": "a3a7043d-171c-4754-bc29-813927d7b2ef",
   "metadata": {},
   "outputs": [
    {
     "name": "stdout",
     "output_type": "stream",
     "text": [
      "Vowels in the given string are ['a', 'e']\n"
     ]
    }
   ],
   "source": [
    "vowel_list = ['a','e','i','o','u']\n",
    "string = 'Chandrashekhar'\n",
    "string = string.lower()\n",
    "\n",
    "vowels_in_string = sorted(set([char for char in string if char in vowel_list]))\n",
    "print(\"Vowels in the given string are\", vowels_in_string)"
   ]
  },
  {
   "cell_type": "markdown",
   "id": "acb1e732-9a0c-42ae-a5aa-2dba6da6a7f2",
   "metadata": {},
   "source": [
    "30. Create a program that removes all non-numeric characters from a list of strings using list comprehension."
   ]
  },
  {
   "cell_type": "code",
   "execution_count": 138,
   "id": "7bf8236d-6675-41ed-bcf1-7fb71ec31d74",
   "metadata": {},
   "outputs": [
    {
     "name": "stdout",
     "output_type": "stream",
     "text": [
      "List of numbers extracted from the given list is [1, 2, 3, 11, 12, 13, 111]\n"
     ]
    }
   ],
   "source": [
    "# Using regex\n",
    "import re\n",
    "list1 = ['A1','A2','A3','B11','B12','B13','C111']\n",
    "\n",
    "# To remove non-numeric characters from each element of list\n",
    "num_list = [int(re.sub(\"[^0-9]\", \"\", i)) for i in list1]     # We can specify float or int according to the requirement\n",
    "print('List of numbers extracted from the given list is', num_list)"
   ]
  },
  {
   "cell_type": "code",
   "execution_count": 139,
   "id": "acfa1ac4-6ed1-42e9-81ee-077dc52164fb",
   "metadata": {},
   "outputs": [
    {
     "name": "stdout",
     "output_type": "stream",
     "text": [
      "List of numbers extracted from the given list is [1, 2, 3, 11, 12, 13, 111]\n"
     ]
    }
   ],
   "source": [
    "# Another approach\n",
    "list1 = ['A1', 'A2', 'A3', 'B11', 'B12', 'B13', 'C111']\n",
    "\n",
    "num_list = [int(''.join(filter(str.isdigit, s))) for s in list1]\n",
    "print('List of numbers extracted from the given list is', num_list)"
   ]
  },
  {
   "cell_type": "code",
   "execution_count": null,
   "id": "7bb0423f-7216-4940-a832-95f1d21c81cd",
   "metadata": {},
   "outputs": [],
   "source": []
  },
  {
   "cell_type": "markdown",
   "id": "8cacaf23-034c-4e88-93fb-ef20e563ddef",
   "metadata": {},
   "source": [
    "## <span style=\"color:orange\">D. Challenge Level</span>"
   ]
  },
  {
   "cell_type": "markdown",
   "id": "45bacf9b-ec9a-4952-b31a-a018b130e60c",
   "metadata": {},
   "source": [
    "31. Write a program to generate a list of prime numbers using the Sieve of Eratosthenes algorithm and list\n",
    "    comprehension."
   ]
  },
  {
   "cell_type": "code",
   "execution_count": 140,
   "id": "1ed90273-4328-41d5-bab4-2e3df4f952e2",
   "metadata": {},
   "outputs": [],
   "source": [
    "# n = 10\n",
    "# prime_no_list = [k for k in i*j for i in range(2, n+1) & j in range(1, n+1)]"
   ]
  },
  {
   "cell_type": "code",
   "execution_count": 141,
   "id": "41cdf970-c6cd-46d5-8dc9-0ac7783441eb",
   "metadata": {},
   "outputs": [
    {
     "name": "stdin",
     "output_type": "stream",
     "text": [
      "Enter the prime number: 100\n"
     ]
    },
    {
     "name": "stdout",
     "output_type": "stream",
     "text": [
      "List of prime numbers up to 100 is [2, 3, 5, 7, 11, 13, 17, 19, 23, 29, 31, 37, 41, 43, 47, 53, 59, 61, 67, 71, 73, 79, 83, 89, 97]\n"
     ]
    }
   ],
   "source": [
    "# Eratosthenes Algorithm works on the fact that multiples of primes are not primes\n",
    "n = int(input(\"Enter the prime number:\"))\n",
    "\n",
    "is_prime = [True] * (n + 1)\n",
    "is_prime[0] = is_prime[1] = False  # 0 and 1 are not prime\n",
    "\n",
    "for i in range(2, int(n**0.5) + 1):  # Check upto integral part of square root of n\n",
    "    if is_prime[i]:\n",
    "        is_prime[i*i : n + 1 : i] = [False] * len(range(i*i, n + 1, i))\n",
    "\n",
    "prime_no_list = [i for i in range(2, n + 1) if is_prime[i]]\n",
    "\n",
    "print(\"List of prime numbers up to\", n, \"is\", prime_no_list)"
   ]
  },
  {
   "cell_type": "markdown",
   "id": "07fa4e56-ae71-4829-b888-52fcde7e477a",
   "metadata": {},
   "source": [
    "32. Create a program that generates a list of all Pythagorean triplets up to a specified limit using list\n",
    "    comprehension."
   ]
  },
  {
   "cell_type": "code",
   "execution_count": 142,
   "id": "478d2b39-d99e-4948-a463-8ee762ca96db",
   "metadata": {},
   "outputs": [
    {
     "name": "stdout",
     "output_type": "stream",
     "text": [
      "The list of all Pythagorean triplets upto 20 is [(6, 8, 10), (3, 4, 5), (8, 15, 17), (9, 12, 15), (5, 12, 13), (12, 16, 20)]\n"
     ]
    }
   ],
   "source": [
    "n = 20\n",
    "py_triplet_list = [(a,b,c) for a in range(1, n+1) for b in range(1, n+1) for c in range(1, n+1) if a**2 == b**2 + c**2]\n",
    "unique_py_triplet_set = set(tuple(sorted(triplet)) for triplet in py_triplet_list)\n",
    "tiplet_list = list(unique_py_triplet_set)\n",
    "print(f\"The list of all Pythagorean triplets upto {n} is\", tiplet_list)"
   ]
  },
  {
   "cell_type": "markdown",
   "id": "379f777b-ad33-4462-a2b9-395d3af81ed0",
   "metadata": {},
   "source": [
    "33. Develop a program that generates a list of all possible combinations of two lists using list comprehension."
   ]
  },
  {
   "cell_type": "code",
   "execution_count": 143,
   "id": "cf9cb28e-45d5-4911-9cc0-aa587738e801",
   "metadata": {},
   "outputs": [
    {
     "name": "stdout",
     "output_type": "stream",
     "text": [
      "[[1, 4, 7], [1, 4, 8], [1, 4, 9], [1, 5, 7], [1, 5, 8], [1, 5, 9], [1, 6, 7], [1, 6, 8], [1, 6, 9], [2, 4, 7], [2, 4, 8], [2, 4, 9], [2, 5, 7], [2, 5, 8], [2, 5, 9], [2, 6, 7], [2, 6, 8], [2, 6, 9], [3, 4, 7], [3, 4, 8], [3, 4, 9], [3, 5, 7], [3, 5, 8], [3, 5, 9], [3, 6, 7], [3, 6, 8], [3, 6, 9]]\n"
     ]
    }
   ],
   "source": [
    "list1 = [1,2,3]\n",
    "list2 = [4,5,6]\n",
    "list3 = [7,8,9]\n",
    "\n",
    "permutation_list = [[i,j,k] for i in list1 for j in list2 for k in list3]\n",
    "print(permutation_list)"
   ]
  },
  {
   "cell_type": "markdown",
   "id": "c8c35a09-6a05-4722-b618-9c62b2f2bbce",
   "metadata": {},
   "source": [
    "34. Write a program that calculates the mean, median, and mode of a list of numbers using list\n",
    "    comprehension."
   ]
  },
  {
   "cell_type": "code",
   "execution_count": 144,
   "id": "871c39b5-ceb6-432c-a91b-0999791b63be",
   "metadata": {},
   "outputs": [
    {
     "name": "stdout",
     "output_type": "stream",
     "text": [
      "Mean: 4.0, Median: 4.5, Mode: [6]\n"
     ]
    }
   ],
   "source": [
    "# We define a function to find the mean, median, mode of the given list\n",
    "def calculate_statistics(num_list):\n",
    "    n = len(num_list)\n",
    "    # Mean\n",
    "    mean = sum(i for i in num_list) / n\n",
    "    \n",
    "    # Median\n",
    "    median1 = num_list[n//2] \n",
    "    median2 = num_list[n//2 - 1]\n",
    "    median = (median1 + median2)/2 if n % 2 == 0 else num_list[n//2]\n",
    "\n",
    "    # Mode\n",
    "    count_dict = Counter(num_list)\n",
    "    mode = [k for k, v in count_dict.items() if v == max(count_dict.values())]\n",
    "   \n",
    "    return mean, median, mode\n",
    "\n",
    "list1 = [1,2,3,2,4,5,6,6,6,5]\n",
    "mean, median, mode = calculate_statistics(list1)\n",
    "print(f\"Mean: {mean}, Median: {median}, Mode: {mode}\")"
   ]
  },
  {
   "cell_type": "markdown",
   "id": "2ed5aa83-6720-4d46-96bd-2ad3f11a3ad9",
   "metadata": {},
   "source": [
    "35. Create a program that generates Pascal's triangle up to a specified number of rows using list\n",
    "    comprehension."
   ]
  },
  {
   "cell_type": "code",
   "execution_count": 145,
   "id": "91e01988-4d19-49bf-9057-dc697a451269",
   "metadata": {
    "tags": []
   },
   "outputs": [
    {
     "name": "stdout",
     "output_type": "stream",
     "text": [
      "           1 \n",
      "          1 1 \n",
      "         1 2 1 \n",
      "        1 3 3 1 \n",
      "       1 4 6 4 1 \n",
      "      1 5 10 10 5 1 \n",
      "     1 6 15 20 15 6 1 \n",
      "    1 7 21 35 35 21 7 1 \n",
      "   1 8 28 56 70 56 28 8 1 \n",
      "  1 9 36 84 126 126 84 36 9 1 \n"
     ]
    }
   ],
   "source": [
    "# Using nested for loop\n",
    "n = 10\n",
    "for i in range(n):\n",
    "\tfor j in range(n-i+1):\n",
    "\t\tprint(end = \" \")  # for left spacing\n",
    "\tfor j in range(i+1):\n",
    "\t\tprint(factorial(i)//(factorial(j)*factorial(i-j)), end = \" \")    # using the formula of nCr\n",
    "\tprint()  # for new line"
   ]
  },
  {
   "cell_type": "code",
   "execution_count": 146,
   "id": "16066d18-70d0-4284-accd-e606b586a590",
   "metadata": {
    "tags": []
   },
   "outputs": [
    {
     "name": "stdout",
     "output_type": "stream",
     "text": [
      "         1          \n",
      "        1 1         \n",
      "       1 2 1        \n",
      "      1 3 3 1       \n",
      "     1 4 6 4 1      \n",
      "   1 5 10 10 5 1    \n",
      "  1 6 15 20 15 6 1  \n",
      "1 7 21 35 35 21 7 1 \n",
      "1 8 28 56 70 56 28 8 1\n",
      "1 9 36 84 126 126 84 36 9 1\n"
     ]
    }
   ],
   "source": [
    "# Using list comprehension\n",
    "n = 10\n",
    "\n",
    "pascals_triangle = [\n",
    "    [factorial(i)//(factorial(j)*factorial(i-j)) for j in range(i+1)]\n",
    "    for i in range(n)]\n",
    "\n",
    "for row in pascals_triangle:\n",
    "    print(\" \".join(map(str, row)).center(2 * n))"
   ]
  },
  {
   "cell_type": "markdown",
   "id": "2ce896b6-988b-49f8-a2b3-3393c1b5af7d",
   "metadata": {},
   "source": [
    "* Nested for loop is more effective for large numbers than list comprehension"
   ]
  },
  {
   "cell_type": "markdown",
   "id": "6762fb78-4042-4531-8f0b-6e47bea69335",
   "metadata": {},
   "source": [
    "36. Develop a program that calculates the sum of the digits of a factorial of numbers from 1 to 5 using list\n",
    "    comprehension."
   ]
  },
  {
   "cell_type": "code",
   "execution_count": 147,
   "id": "a253e0c0-98c0-40f6-b4ba-1ba458f4918f",
   "metadata": {
    "tags": []
   },
   "outputs": [
    {
     "name": "stdout",
     "output_type": "stream",
     "text": [
      "sum of digits of 1!: 1\n",
      "sum of digits of 2!: 2\n",
      "sum of digits of 3!: 6\n",
      "sum of digits of 4!: 6\n",
      "sum of digits of 5!: 3\n"
     ]
    }
   ],
   "source": [
    "# We use nested for loops inside of list comprehension\n",
    "digit_sum = [sum(int(i) for i in str(factorial(n))) for n in range(1,6)]\n",
    "for idx, sum_ in enumerate(digit_sum):\n",
    "    print(f\"sum of digits of {idx + 1}!:\", sum_)"
   ]
  },
  {
   "cell_type": "markdown",
   "id": "05a37b19-db1b-40b4-9923-e8402bcd0b99",
   "metadata": {
    "tags": []
   },
   "source": [
    "37. Write a program that finds the longest word in a sentence using list comprehension."
   ]
  },
  {
   "cell_type": "code",
   "execution_count": 148,
   "id": "638444ee-f5e7-4d17-8386-066b0a8282e5",
   "metadata": {
    "tags": []
   },
   "outputs": [
    {
     "name": "stdout",
     "output_type": "stream",
     "text": [
      "The longest word in the given list is 'developer' having length 9\n"
     ]
    }
   ],
   "source": [
    "sentence = \"I am a python developer\"\n",
    "\n",
    "word_list = sentence.split() # Create a list of words\n",
    "max_len = max([len(word) for word in word_list]) # Find the maximum of lengths of all words \n",
    "max_len_word = [word for word in word_list if len(word) == max_len][0] # Find the word having max length\n",
    "\n",
    "print(f\"The longest word in the given list is '{max_len_word}' having length {max_len}\")"
   ]
  },
  {
   "cell_type": "markdown",
   "id": "6624d78e-11eb-48b4-9aa6-628b1acd00dc",
   "metadata": {},
   "source": [
    "38. Create a program that filters a list of strings to include only those with more than three vowels using list\n",
    "    comprehension."
   ]
  },
  {
   "cell_type": "code",
   "execution_count": 149,
   "id": "2e049cda-2112-4455-b9fe-34ee39f3b578",
   "metadata": {
    "tags": []
   },
   "outputs": [
    {
     "name": "stdout",
     "output_type": "stream",
     "text": [
      "The list of strings to include only those with more than three vowels is: ['extraordinary']\n"
     ]
    }
   ],
   "source": [
    "# Assuming we count unique vowels in the words\n",
    "\n",
    "vowel_list = ['a','e','i','o','u']\n",
    "string = 'The extraordinary phenomenon mesmerized everyone in the bustling city'\n",
    "word_list = string.split()\n",
    "\n",
    "filtered_word_list = [word for word in word_list if len(set([i for i in word.lower() if i in vowel_list])) >= 4]  # Find the with more than three vowels\n",
    "\n",
    "print(\"The list of strings to include only those with more than three vowels is:\", filtered_word_list)"
   ]
  },
  {
   "cell_type": "code",
   "execution_count": 150,
   "id": "342e52cf-2756-489c-b4f6-15bab9b093c6",
   "metadata": {
    "tags": []
   },
   "outputs": [
    {
     "name": "stdout",
     "output_type": "stream",
     "text": [
      "The list of strings to include only those with more than three vowels is: ['extraordinary', 'phenomenon', 'mesmerized', 'everyone']\n"
     ]
    }
   ],
   "source": [
    "# Another approach assuming repetition vowels is allowed\n",
    "\n",
    "vowel_list = ['a', 'e', 'i', 'o', 'u']\n",
    "string = 'The extraordinary phenomenon mesmerized everyone in the bustling city'\n",
    "word_list = string.split()\n",
    "\n",
    "# Filter the word_list to include only those with more than three vowels\n",
    "filtered_word_list = [word for word in word_list if sum(1 for i in word.lower() if i in vowel_list) > 3]\n",
    "\n",
    "print(\"The list of strings to include only those with more than three vowels is:\", filtered_word_list)"
   ]
  },
  {
   "cell_type": "markdown",
   "id": "536fa0a3-9b13-4fdb-8ce7-67fe1e8ff4bc",
   "metadata": {},
   "source": [
    "39. Develop a program that calculates the sum of the digits of numbers from 1 to 1000 using list\n",
    "    comprehension."
   ]
  },
  {
   "cell_type": "code",
   "execution_count": 89,
   "id": "830ebced-48ff-4a28-81d3-b17e8621e2c0",
   "metadata": {
    "collapsed": true,
    "jupyter": {
     "outputs_hidden": true
    },
    "tags": []
   },
   "outputs": [
    {
     "name": "stdout",
     "output_type": "stream",
     "text": [
      "The sum of digits of 1: 1\n",
      "The sum of digits of 2: 2\n",
      "The sum of digits of 3: 3\n",
      "The sum of digits of 4: 4\n",
      "The sum of digits of 5: 5\n",
      "The sum of digits of 6: 6\n",
      "The sum of digits of 7: 7\n",
      "The sum of digits of 8: 8\n",
      "The sum of digits of 9: 9\n",
      "The sum of digits of 10: 1\n",
      "The sum of digits of 11: 2\n",
      "The sum of digits of 12: 3\n",
      "The sum of digits of 13: 4\n",
      "The sum of digits of 14: 5\n",
      "The sum of digits of 15: 6\n",
      "The sum of digits of 16: 7\n",
      "The sum of digits of 17: 8\n",
      "The sum of digits of 18: 9\n",
      "The sum of digits of 19: 10\n",
      "The sum of digits of 20: 2\n",
      "The sum of digits of 21: 3\n",
      "The sum of digits of 22: 4\n",
      "The sum of digits of 23: 5\n",
      "The sum of digits of 24: 6\n",
      "The sum of digits of 25: 7\n",
      "The sum of digits of 26: 8\n",
      "The sum of digits of 27: 9\n",
      "The sum of digits of 28: 10\n",
      "The sum of digits of 29: 11\n",
      "The sum of digits of 30: 3\n",
      "The sum of digits of 31: 4\n",
      "The sum of digits of 32: 5\n",
      "The sum of digits of 33: 6\n",
      "The sum of digits of 34: 7\n",
      "The sum of digits of 35: 8\n",
      "The sum of digits of 36: 9\n",
      "The sum of digits of 37: 10\n",
      "The sum of digits of 38: 11\n",
      "The sum of digits of 39: 12\n",
      "The sum of digits of 40: 4\n",
      "The sum of digits of 41: 5\n",
      "The sum of digits of 42: 6\n",
      "The sum of digits of 43: 7\n",
      "The sum of digits of 44: 8\n",
      "The sum of digits of 45: 9\n",
      "The sum of digits of 46: 10\n",
      "The sum of digits of 47: 11\n",
      "The sum of digits of 48: 12\n",
      "The sum of digits of 49: 13\n",
      "The sum of digits of 50: 5\n",
      "The sum of digits of 51: 6\n",
      "The sum of digits of 52: 7\n",
      "The sum of digits of 53: 8\n",
      "The sum of digits of 54: 9\n",
      "The sum of digits of 55: 10\n",
      "The sum of digits of 56: 11\n",
      "The sum of digits of 57: 12\n",
      "The sum of digits of 58: 13\n",
      "The sum of digits of 59: 14\n",
      "The sum of digits of 60: 6\n",
      "The sum of digits of 61: 7\n",
      "The sum of digits of 62: 8\n",
      "The sum of digits of 63: 9\n",
      "The sum of digits of 64: 10\n",
      "The sum of digits of 65: 11\n",
      "The sum of digits of 66: 12\n",
      "The sum of digits of 67: 13\n",
      "The sum of digits of 68: 14\n",
      "The sum of digits of 69: 15\n",
      "The sum of digits of 70: 7\n",
      "The sum of digits of 71: 8\n",
      "The sum of digits of 72: 9\n",
      "The sum of digits of 73: 10\n",
      "The sum of digits of 74: 11\n",
      "The sum of digits of 75: 12\n",
      "The sum of digits of 76: 13\n",
      "The sum of digits of 77: 14\n",
      "The sum of digits of 78: 15\n",
      "The sum of digits of 79: 16\n",
      "The sum of digits of 80: 8\n",
      "The sum of digits of 81: 9\n",
      "The sum of digits of 82: 10\n",
      "The sum of digits of 83: 11\n",
      "The sum of digits of 84: 12\n",
      "The sum of digits of 85: 13\n",
      "The sum of digits of 86: 14\n",
      "The sum of digits of 87: 15\n",
      "The sum of digits of 88: 16\n",
      "The sum of digits of 89: 17\n",
      "The sum of digits of 90: 9\n",
      "The sum of digits of 91: 10\n",
      "The sum of digits of 92: 11\n",
      "The sum of digits of 93: 12\n",
      "The sum of digits of 94: 13\n",
      "The sum of digits of 95: 14\n",
      "The sum of digits of 96: 15\n",
      "The sum of digits of 97: 16\n",
      "The sum of digits of 98: 17\n",
      "The sum of digits of 99: 18\n",
      "The sum of digits of 100: 1\n",
      "The sum of digits of 101: 2\n",
      "The sum of digits of 102: 3\n",
      "The sum of digits of 103: 4\n",
      "The sum of digits of 104: 5\n",
      "The sum of digits of 105: 6\n",
      "The sum of digits of 106: 7\n",
      "The sum of digits of 107: 8\n",
      "The sum of digits of 108: 9\n",
      "The sum of digits of 109: 10\n",
      "The sum of digits of 110: 2\n",
      "The sum of digits of 111: 3\n",
      "The sum of digits of 112: 4\n",
      "The sum of digits of 113: 5\n",
      "The sum of digits of 114: 6\n",
      "The sum of digits of 115: 7\n",
      "The sum of digits of 116: 8\n",
      "The sum of digits of 117: 9\n",
      "The sum of digits of 118: 10\n",
      "The sum of digits of 119: 11\n",
      "The sum of digits of 120: 3\n",
      "The sum of digits of 121: 4\n",
      "The sum of digits of 122: 5\n",
      "The sum of digits of 123: 6\n",
      "The sum of digits of 124: 7\n",
      "The sum of digits of 125: 8\n",
      "The sum of digits of 126: 9\n",
      "The sum of digits of 127: 10\n",
      "The sum of digits of 128: 11\n",
      "The sum of digits of 129: 12\n",
      "The sum of digits of 130: 4\n",
      "The sum of digits of 131: 5\n",
      "The sum of digits of 132: 6\n",
      "The sum of digits of 133: 7\n",
      "The sum of digits of 134: 8\n",
      "The sum of digits of 135: 9\n",
      "The sum of digits of 136: 10\n",
      "The sum of digits of 137: 11\n",
      "The sum of digits of 138: 12\n",
      "The sum of digits of 139: 13\n",
      "The sum of digits of 140: 5\n",
      "The sum of digits of 141: 6\n",
      "The sum of digits of 142: 7\n",
      "The sum of digits of 143: 8\n",
      "The sum of digits of 144: 9\n",
      "The sum of digits of 145: 10\n",
      "The sum of digits of 146: 11\n",
      "The sum of digits of 147: 12\n",
      "The sum of digits of 148: 13\n",
      "The sum of digits of 149: 14\n",
      "The sum of digits of 150: 6\n",
      "The sum of digits of 151: 7\n",
      "The sum of digits of 152: 8\n",
      "The sum of digits of 153: 9\n",
      "The sum of digits of 154: 10\n",
      "The sum of digits of 155: 11\n",
      "The sum of digits of 156: 12\n",
      "The sum of digits of 157: 13\n",
      "The sum of digits of 158: 14\n",
      "The sum of digits of 159: 15\n",
      "The sum of digits of 160: 7\n",
      "The sum of digits of 161: 8\n",
      "The sum of digits of 162: 9\n",
      "The sum of digits of 163: 10\n",
      "The sum of digits of 164: 11\n",
      "The sum of digits of 165: 12\n",
      "The sum of digits of 166: 13\n",
      "The sum of digits of 167: 14\n",
      "The sum of digits of 168: 15\n",
      "The sum of digits of 169: 16\n",
      "The sum of digits of 170: 8\n",
      "The sum of digits of 171: 9\n",
      "The sum of digits of 172: 10\n",
      "The sum of digits of 173: 11\n",
      "The sum of digits of 174: 12\n",
      "The sum of digits of 175: 13\n",
      "The sum of digits of 176: 14\n",
      "The sum of digits of 177: 15\n",
      "The sum of digits of 178: 16\n",
      "The sum of digits of 179: 17\n",
      "The sum of digits of 180: 9\n",
      "The sum of digits of 181: 10\n",
      "The sum of digits of 182: 11\n",
      "The sum of digits of 183: 12\n",
      "The sum of digits of 184: 13\n",
      "The sum of digits of 185: 14\n",
      "The sum of digits of 186: 15\n",
      "The sum of digits of 187: 16\n",
      "The sum of digits of 188: 17\n",
      "The sum of digits of 189: 18\n",
      "The sum of digits of 190: 10\n",
      "The sum of digits of 191: 11\n",
      "The sum of digits of 192: 12\n",
      "The sum of digits of 193: 13\n",
      "The sum of digits of 194: 14\n",
      "The sum of digits of 195: 15\n",
      "The sum of digits of 196: 16\n",
      "The sum of digits of 197: 17\n",
      "The sum of digits of 198: 18\n",
      "The sum of digits of 199: 19\n",
      "The sum of digits of 200: 2\n",
      "The sum of digits of 201: 3\n",
      "The sum of digits of 202: 4\n",
      "The sum of digits of 203: 5\n",
      "The sum of digits of 204: 6\n",
      "The sum of digits of 205: 7\n",
      "The sum of digits of 206: 8\n",
      "The sum of digits of 207: 9\n",
      "The sum of digits of 208: 10\n",
      "The sum of digits of 209: 11\n",
      "The sum of digits of 210: 3\n",
      "The sum of digits of 211: 4\n",
      "The sum of digits of 212: 5\n",
      "The sum of digits of 213: 6\n",
      "The sum of digits of 214: 7\n",
      "The sum of digits of 215: 8\n",
      "The sum of digits of 216: 9\n",
      "The sum of digits of 217: 10\n",
      "The sum of digits of 218: 11\n",
      "The sum of digits of 219: 12\n",
      "The sum of digits of 220: 4\n",
      "The sum of digits of 221: 5\n",
      "The sum of digits of 222: 6\n",
      "The sum of digits of 223: 7\n",
      "The sum of digits of 224: 8\n",
      "The sum of digits of 225: 9\n",
      "The sum of digits of 226: 10\n",
      "The sum of digits of 227: 11\n",
      "The sum of digits of 228: 12\n",
      "The sum of digits of 229: 13\n",
      "The sum of digits of 230: 5\n",
      "The sum of digits of 231: 6\n",
      "The sum of digits of 232: 7\n",
      "The sum of digits of 233: 8\n",
      "The sum of digits of 234: 9\n",
      "The sum of digits of 235: 10\n",
      "The sum of digits of 236: 11\n",
      "The sum of digits of 237: 12\n",
      "The sum of digits of 238: 13\n",
      "The sum of digits of 239: 14\n",
      "The sum of digits of 240: 6\n",
      "The sum of digits of 241: 7\n",
      "The sum of digits of 242: 8\n",
      "The sum of digits of 243: 9\n",
      "The sum of digits of 244: 10\n",
      "The sum of digits of 245: 11\n",
      "The sum of digits of 246: 12\n",
      "The sum of digits of 247: 13\n",
      "The sum of digits of 248: 14\n",
      "The sum of digits of 249: 15\n",
      "The sum of digits of 250: 7\n",
      "The sum of digits of 251: 8\n",
      "The sum of digits of 252: 9\n",
      "The sum of digits of 253: 10\n",
      "The sum of digits of 254: 11\n",
      "The sum of digits of 255: 12\n",
      "The sum of digits of 256: 13\n",
      "The sum of digits of 257: 14\n",
      "The sum of digits of 258: 15\n",
      "The sum of digits of 259: 16\n",
      "The sum of digits of 260: 8\n",
      "The sum of digits of 261: 9\n",
      "The sum of digits of 262: 10\n",
      "The sum of digits of 263: 11\n",
      "The sum of digits of 264: 12\n",
      "The sum of digits of 265: 13\n",
      "The sum of digits of 266: 14\n",
      "The sum of digits of 267: 15\n",
      "The sum of digits of 268: 16\n",
      "The sum of digits of 269: 17\n",
      "The sum of digits of 270: 9\n",
      "The sum of digits of 271: 10\n",
      "The sum of digits of 272: 11\n",
      "The sum of digits of 273: 12\n",
      "The sum of digits of 274: 13\n",
      "The sum of digits of 275: 14\n",
      "The sum of digits of 276: 15\n",
      "The sum of digits of 277: 16\n",
      "The sum of digits of 278: 17\n",
      "The sum of digits of 279: 18\n",
      "The sum of digits of 280: 10\n",
      "The sum of digits of 281: 11\n",
      "The sum of digits of 282: 12\n",
      "The sum of digits of 283: 13\n",
      "The sum of digits of 284: 14\n",
      "The sum of digits of 285: 15\n",
      "The sum of digits of 286: 16\n",
      "The sum of digits of 287: 17\n",
      "The sum of digits of 288: 18\n",
      "The sum of digits of 289: 19\n",
      "The sum of digits of 290: 11\n",
      "The sum of digits of 291: 12\n",
      "The sum of digits of 292: 13\n",
      "The sum of digits of 293: 14\n",
      "The sum of digits of 294: 15\n",
      "The sum of digits of 295: 16\n",
      "The sum of digits of 296: 17\n",
      "The sum of digits of 297: 18\n",
      "The sum of digits of 298: 19\n",
      "The sum of digits of 299: 20\n",
      "The sum of digits of 300: 3\n",
      "The sum of digits of 301: 4\n",
      "The sum of digits of 302: 5\n",
      "The sum of digits of 303: 6\n",
      "The sum of digits of 304: 7\n",
      "The sum of digits of 305: 8\n",
      "The sum of digits of 306: 9\n",
      "The sum of digits of 307: 10\n",
      "The sum of digits of 308: 11\n",
      "The sum of digits of 309: 12\n",
      "The sum of digits of 310: 4\n",
      "The sum of digits of 311: 5\n",
      "The sum of digits of 312: 6\n",
      "The sum of digits of 313: 7\n",
      "The sum of digits of 314: 8\n",
      "The sum of digits of 315: 9\n",
      "The sum of digits of 316: 10\n",
      "The sum of digits of 317: 11\n",
      "The sum of digits of 318: 12\n",
      "The sum of digits of 319: 13\n",
      "The sum of digits of 320: 5\n",
      "The sum of digits of 321: 6\n",
      "The sum of digits of 322: 7\n",
      "The sum of digits of 323: 8\n",
      "The sum of digits of 324: 9\n",
      "The sum of digits of 325: 10\n",
      "The sum of digits of 326: 11\n",
      "The sum of digits of 327: 12\n",
      "The sum of digits of 328: 13\n",
      "The sum of digits of 329: 14\n",
      "The sum of digits of 330: 6\n",
      "The sum of digits of 331: 7\n",
      "The sum of digits of 332: 8\n",
      "The sum of digits of 333: 9\n",
      "The sum of digits of 334: 10\n",
      "The sum of digits of 335: 11\n",
      "The sum of digits of 336: 12\n",
      "The sum of digits of 337: 13\n",
      "The sum of digits of 338: 14\n",
      "The sum of digits of 339: 15\n",
      "The sum of digits of 340: 7\n",
      "The sum of digits of 341: 8\n",
      "The sum of digits of 342: 9\n",
      "The sum of digits of 343: 10\n",
      "The sum of digits of 344: 11\n",
      "The sum of digits of 345: 12\n",
      "The sum of digits of 346: 13\n",
      "The sum of digits of 347: 14\n",
      "The sum of digits of 348: 15\n",
      "The sum of digits of 349: 16\n",
      "The sum of digits of 350: 8\n",
      "The sum of digits of 351: 9\n",
      "The sum of digits of 352: 10\n",
      "The sum of digits of 353: 11\n",
      "The sum of digits of 354: 12\n",
      "The sum of digits of 355: 13\n",
      "The sum of digits of 356: 14\n",
      "The sum of digits of 357: 15\n",
      "The sum of digits of 358: 16\n",
      "The sum of digits of 359: 17\n",
      "The sum of digits of 360: 9\n",
      "The sum of digits of 361: 10\n",
      "The sum of digits of 362: 11\n",
      "The sum of digits of 363: 12\n",
      "The sum of digits of 364: 13\n",
      "The sum of digits of 365: 14\n",
      "The sum of digits of 366: 15\n",
      "The sum of digits of 367: 16\n",
      "The sum of digits of 368: 17\n",
      "The sum of digits of 369: 18\n",
      "The sum of digits of 370: 10\n",
      "The sum of digits of 371: 11\n",
      "The sum of digits of 372: 12\n",
      "The sum of digits of 373: 13\n",
      "The sum of digits of 374: 14\n",
      "The sum of digits of 375: 15\n",
      "The sum of digits of 376: 16\n",
      "The sum of digits of 377: 17\n",
      "The sum of digits of 378: 18\n",
      "The sum of digits of 379: 19\n",
      "The sum of digits of 380: 11\n",
      "The sum of digits of 381: 12\n",
      "The sum of digits of 382: 13\n",
      "The sum of digits of 383: 14\n",
      "The sum of digits of 384: 15\n",
      "The sum of digits of 385: 16\n",
      "The sum of digits of 386: 17\n",
      "The sum of digits of 387: 18\n",
      "The sum of digits of 388: 19\n",
      "The sum of digits of 389: 20\n",
      "The sum of digits of 390: 12\n",
      "The sum of digits of 391: 13\n",
      "The sum of digits of 392: 14\n",
      "The sum of digits of 393: 15\n",
      "The sum of digits of 394: 16\n",
      "The sum of digits of 395: 17\n",
      "The sum of digits of 396: 18\n",
      "The sum of digits of 397: 19\n",
      "The sum of digits of 398: 20\n",
      "The sum of digits of 399: 21\n",
      "The sum of digits of 400: 4\n",
      "The sum of digits of 401: 5\n",
      "The sum of digits of 402: 6\n",
      "The sum of digits of 403: 7\n",
      "The sum of digits of 404: 8\n",
      "The sum of digits of 405: 9\n",
      "The sum of digits of 406: 10\n",
      "The sum of digits of 407: 11\n",
      "The sum of digits of 408: 12\n",
      "The sum of digits of 409: 13\n",
      "The sum of digits of 410: 5\n",
      "The sum of digits of 411: 6\n",
      "The sum of digits of 412: 7\n",
      "The sum of digits of 413: 8\n",
      "The sum of digits of 414: 9\n",
      "The sum of digits of 415: 10\n",
      "The sum of digits of 416: 11\n",
      "The sum of digits of 417: 12\n",
      "The sum of digits of 418: 13\n",
      "The sum of digits of 419: 14\n",
      "The sum of digits of 420: 6\n",
      "The sum of digits of 421: 7\n",
      "The sum of digits of 422: 8\n",
      "The sum of digits of 423: 9\n",
      "The sum of digits of 424: 10\n",
      "The sum of digits of 425: 11\n",
      "The sum of digits of 426: 12\n",
      "The sum of digits of 427: 13\n",
      "The sum of digits of 428: 14\n",
      "The sum of digits of 429: 15\n",
      "The sum of digits of 430: 7\n",
      "The sum of digits of 431: 8\n",
      "The sum of digits of 432: 9\n",
      "The sum of digits of 433: 10\n",
      "The sum of digits of 434: 11\n",
      "The sum of digits of 435: 12\n",
      "The sum of digits of 436: 13\n",
      "The sum of digits of 437: 14\n",
      "The sum of digits of 438: 15\n",
      "The sum of digits of 439: 16\n",
      "The sum of digits of 440: 8\n",
      "The sum of digits of 441: 9\n",
      "The sum of digits of 442: 10\n",
      "The sum of digits of 443: 11\n",
      "The sum of digits of 444: 12\n",
      "The sum of digits of 445: 13\n",
      "The sum of digits of 446: 14\n",
      "The sum of digits of 447: 15\n",
      "The sum of digits of 448: 16\n",
      "The sum of digits of 449: 17\n",
      "The sum of digits of 450: 9\n",
      "The sum of digits of 451: 10\n",
      "The sum of digits of 452: 11\n",
      "The sum of digits of 453: 12\n",
      "The sum of digits of 454: 13\n",
      "The sum of digits of 455: 14\n",
      "The sum of digits of 456: 15\n",
      "The sum of digits of 457: 16\n",
      "The sum of digits of 458: 17\n",
      "The sum of digits of 459: 18\n",
      "The sum of digits of 460: 10\n",
      "The sum of digits of 461: 11\n",
      "The sum of digits of 462: 12\n",
      "The sum of digits of 463: 13\n",
      "The sum of digits of 464: 14\n",
      "The sum of digits of 465: 15\n",
      "The sum of digits of 466: 16\n",
      "The sum of digits of 467: 17\n",
      "The sum of digits of 468: 18\n",
      "The sum of digits of 469: 19\n",
      "The sum of digits of 470: 11\n",
      "The sum of digits of 471: 12\n",
      "The sum of digits of 472: 13\n",
      "The sum of digits of 473: 14\n",
      "The sum of digits of 474: 15\n",
      "The sum of digits of 475: 16\n",
      "The sum of digits of 476: 17\n",
      "The sum of digits of 477: 18\n",
      "The sum of digits of 478: 19\n",
      "The sum of digits of 479: 20\n",
      "The sum of digits of 480: 12\n",
      "The sum of digits of 481: 13\n",
      "The sum of digits of 482: 14\n",
      "The sum of digits of 483: 15\n",
      "The sum of digits of 484: 16\n",
      "The sum of digits of 485: 17\n",
      "The sum of digits of 486: 18\n",
      "The sum of digits of 487: 19\n",
      "The sum of digits of 488: 20\n",
      "The sum of digits of 489: 21\n",
      "The sum of digits of 490: 13\n",
      "The sum of digits of 491: 14\n",
      "The sum of digits of 492: 15\n",
      "The sum of digits of 493: 16\n",
      "The sum of digits of 494: 17\n",
      "The sum of digits of 495: 18\n",
      "The sum of digits of 496: 19\n",
      "The sum of digits of 497: 20\n",
      "The sum of digits of 498: 21\n",
      "The sum of digits of 499: 22\n",
      "The sum of digits of 500: 5\n",
      "The sum of digits of 501: 6\n",
      "The sum of digits of 502: 7\n",
      "The sum of digits of 503: 8\n",
      "The sum of digits of 504: 9\n",
      "The sum of digits of 505: 10\n",
      "The sum of digits of 506: 11\n",
      "The sum of digits of 507: 12\n",
      "The sum of digits of 508: 13\n",
      "The sum of digits of 509: 14\n",
      "The sum of digits of 510: 6\n",
      "The sum of digits of 511: 7\n",
      "The sum of digits of 512: 8\n",
      "The sum of digits of 513: 9\n",
      "The sum of digits of 514: 10\n",
      "The sum of digits of 515: 11\n",
      "The sum of digits of 516: 12\n",
      "The sum of digits of 517: 13\n",
      "The sum of digits of 518: 14\n",
      "The sum of digits of 519: 15\n",
      "The sum of digits of 520: 7\n",
      "The sum of digits of 521: 8\n",
      "The sum of digits of 522: 9\n",
      "The sum of digits of 523: 10\n",
      "The sum of digits of 524: 11\n",
      "The sum of digits of 525: 12\n",
      "The sum of digits of 526: 13\n",
      "The sum of digits of 527: 14\n",
      "The sum of digits of 528: 15\n",
      "The sum of digits of 529: 16\n",
      "The sum of digits of 530: 8\n",
      "The sum of digits of 531: 9\n",
      "The sum of digits of 532: 10\n",
      "The sum of digits of 533: 11\n",
      "The sum of digits of 534: 12\n",
      "The sum of digits of 535: 13\n",
      "The sum of digits of 536: 14\n",
      "The sum of digits of 537: 15\n",
      "The sum of digits of 538: 16\n",
      "The sum of digits of 539: 17\n",
      "The sum of digits of 540: 9\n",
      "The sum of digits of 541: 10\n",
      "The sum of digits of 542: 11\n",
      "The sum of digits of 543: 12\n",
      "The sum of digits of 544: 13\n",
      "The sum of digits of 545: 14\n",
      "The sum of digits of 546: 15\n",
      "The sum of digits of 547: 16\n",
      "The sum of digits of 548: 17\n",
      "The sum of digits of 549: 18\n",
      "The sum of digits of 550: 10\n",
      "The sum of digits of 551: 11\n",
      "The sum of digits of 552: 12\n",
      "The sum of digits of 553: 13\n",
      "The sum of digits of 554: 14\n",
      "The sum of digits of 555: 15\n",
      "The sum of digits of 556: 16\n",
      "The sum of digits of 557: 17\n",
      "The sum of digits of 558: 18\n",
      "The sum of digits of 559: 19\n",
      "The sum of digits of 560: 11\n",
      "The sum of digits of 561: 12\n",
      "The sum of digits of 562: 13\n",
      "The sum of digits of 563: 14\n",
      "The sum of digits of 564: 15\n",
      "The sum of digits of 565: 16\n",
      "The sum of digits of 566: 17\n",
      "The sum of digits of 567: 18\n",
      "The sum of digits of 568: 19\n",
      "The sum of digits of 569: 20\n",
      "The sum of digits of 570: 12\n",
      "The sum of digits of 571: 13\n",
      "The sum of digits of 572: 14\n",
      "The sum of digits of 573: 15\n",
      "The sum of digits of 574: 16\n",
      "The sum of digits of 575: 17\n",
      "The sum of digits of 576: 18\n",
      "The sum of digits of 577: 19\n",
      "The sum of digits of 578: 20\n",
      "The sum of digits of 579: 21\n",
      "The sum of digits of 580: 13\n",
      "The sum of digits of 581: 14\n",
      "The sum of digits of 582: 15\n",
      "The sum of digits of 583: 16\n",
      "The sum of digits of 584: 17\n",
      "The sum of digits of 585: 18\n",
      "The sum of digits of 586: 19\n",
      "The sum of digits of 587: 20\n",
      "The sum of digits of 588: 21\n",
      "The sum of digits of 589: 22\n",
      "The sum of digits of 590: 14\n",
      "The sum of digits of 591: 15\n",
      "The sum of digits of 592: 16\n",
      "The sum of digits of 593: 17\n",
      "The sum of digits of 594: 18\n",
      "The sum of digits of 595: 19\n",
      "The sum of digits of 596: 20\n",
      "The sum of digits of 597: 21\n",
      "The sum of digits of 598: 22\n",
      "The sum of digits of 599: 23\n",
      "The sum of digits of 600: 6\n",
      "The sum of digits of 601: 7\n",
      "The sum of digits of 602: 8\n",
      "The sum of digits of 603: 9\n",
      "The sum of digits of 604: 10\n",
      "The sum of digits of 605: 11\n",
      "The sum of digits of 606: 12\n",
      "The sum of digits of 607: 13\n",
      "The sum of digits of 608: 14\n",
      "The sum of digits of 609: 15\n",
      "The sum of digits of 610: 7\n",
      "The sum of digits of 611: 8\n",
      "The sum of digits of 612: 9\n",
      "The sum of digits of 613: 10\n",
      "The sum of digits of 614: 11\n",
      "The sum of digits of 615: 12\n",
      "The sum of digits of 616: 13\n",
      "The sum of digits of 617: 14\n",
      "The sum of digits of 618: 15\n",
      "The sum of digits of 619: 16\n",
      "The sum of digits of 620: 8\n",
      "The sum of digits of 621: 9\n",
      "The sum of digits of 622: 10\n",
      "The sum of digits of 623: 11\n",
      "The sum of digits of 624: 12\n",
      "The sum of digits of 625: 13\n",
      "The sum of digits of 626: 14\n",
      "The sum of digits of 627: 15\n",
      "The sum of digits of 628: 16\n",
      "The sum of digits of 629: 17\n",
      "The sum of digits of 630: 9\n",
      "The sum of digits of 631: 10\n",
      "The sum of digits of 632: 11\n",
      "The sum of digits of 633: 12\n",
      "The sum of digits of 634: 13\n",
      "The sum of digits of 635: 14\n",
      "The sum of digits of 636: 15\n",
      "The sum of digits of 637: 16\n",
      "The sum of digits of 638: 17\n",
      "The sum of digits of 639: 18\n",
      "The sum of digits of 640: 10\n",
      "The sum of digits of 641: 11\n",
      "The sum of digits of 642: 12\n",
      "The sum of digits of 643: 13\n",
      "The sum of digits of 644: 14\n",
      "The sum of digits of 645: 15\n",
      "The sum of digits of 646: 16\n",
      "The sum of digits of 647: 17\n",
      "The sum of digits of 648: 18\n",
      "The sum of digits of 649: 19\n",
      "The sum of digits of 650: 11\n",
      "The sum of digits of 651: 12\n",
      "The sum of digits of 652: 13\n",
      "The sum of digits of 653: 14\n",
      "The sum of digits of 654: 15\n",
      "The sum of digits of 655: 16\n",
      "The sum of digits of 656: 17\n",
      "The sum of digits of 657: 18\n",
      "The sum of digits of 658: 19\n",
      "The sum of digits of 659: 20\n",
      "The sum of digits of 660: 12\n",
      "The sum of digits of 661: 13\n",
      "The sum of digits of 662: 14\n",
      "The sum of digits of 663: 15\n",
      "The sum of digits of 664: 16\n",
      "The sum of digits of 665: 17\n",
      "The sum of digits of 666: 18\n",
      "The sum of digits of 667: 19\n",
      "The sum of digits of 668: 20\n",
      "The sum of digits of 669: 21\n",
      "The sum of digits of 670: 13\n",
      "The sum of digits of 671: 14\n",
      "The sum of digits of 672: 15\n",
      "The sum of digits of 673: 16\n",
      "The sum of digits of 674: 17\n",
      "The sum of digits of 675: 18\n",
      "The sum of digits of 676: 19\n",
      "The sum of digits of 677: 20\n",
      "The sum of digits of 678: 21\n",
      "The sum of digits of 679: 22\n",
      "The sum of digits of 680: 14\n",
      "The sum of digits of 681: 15\n",
      "The sum of digits of 682: 16\n",
      "The sum of digits of 683: 17\n",
      "The sum of digits of 684: 18\n",
      "The sum of digits of 685: 19\n",
      "The sum of digits of 686: 20\n",
      "The sum of digits of 687: 21\n",
      "The sum of digits of 688: 22\n",
      "The sum of digits of 689: 23\n",
      "The sum of digits of 690: 15\n",
      "The sum of digits of 691: 16\n",
      "The sum of digits of 692: 17\n",
      "The sum of digits of 693: 18\n",
      "The sum of digits of 694: 19\n",
      "The sum of digits of 695: 20\n",
      "The sum of digits of 696: 21\n",
      "The sum of digits of 697: 22\n",
      "The sum of digits of 698: 23\n",
      "The sum of digits of 699: 24\n",
      "The sum of digits of 700: 7\n",
      "The sum of digits of 701: 8\n",
      "The sum of digits of 702: 9\n",
      "The sum of digits of 703: 10\n",
      "The sum of digits of 704: 11\n",
      "The sum of digits of 705: 12\n",
      "The sum of digits of 706: 13\n",
      "The sum of digits of 707: 14\n",
      "The sum of digits of 708: 15\n",
      "The sum of digits of 709: 16\n",
      "The sum of digits of 710: 8\n",
      "The sum of digits of 711: 9\n",
      "The sum of digits of 712: 10\n",
      "The sum of digits of 713: 11\n",
      "The sum of digits of 714: 12\n",
      "The sum of digits of 715: 13\n",
      "The sum of digits of 716: 14\n",
      "The sum of digits of 717: 15\n",
      "The sum of digits of 718: 16\n",
      "The sum of digits of 719: 17\n",
      "The sum of digits of 720: 9\n",
      "The sum of digits of 721: 10\n",
      "The sum of digits of 722: 11\n",
      "The sum of digits of 723: 12\n",
      "The sum of digits of 724: 13\n",
      "The sum of digits of 725: 14\n",
      "The sum of digits of 726: 15\n",
      "The sum of digits of 727: 16\n",
      "The sum of digits of 728: 17\n",
      "The sum of digits of 729: 18\n",
      "The sum of digits of 730: 10\n",
      "The sum of digits of 731: 11\n",
      "The sum of digits of 732: 12\n",
      "The sum of digits of 733: 13\n",
      "The sum of digits of 734: 14\n",
      "The sum of digits of 735: 15\n",
      "The sum of digits of 736: 16\n",
      "The sum of digits of 737: 17\n",
      "The sum of digits of 738: 18\n",
      "The sum of digits of 739: 19\n",
      "The sum of digits of 740: 11\n",
      "The sum of digits of 741: 12\n",
      "The sum of digits of 742: 13\n",
      "The sum of digits of 743: 14\n",
      "The sum of digits of 744: 15\n",
      "The sum of digits of 745: 16\n",
      "The sum of digits of 746: 17\n",
      "The sum of digits of 747: 18\n",
      "The sum of digits of 748: 19\n",
      "The sum of digits of 749: 20\n",
      "The sum of digits of 750: 12\n",
      "The sum of digits of 751: 13\n",
      "The sum of digits of 752: 14\n",
      "The sum of digits of 753: 15\n",
      "The sum of digits of 754: 16\n",
      "The sum of digits of 755: 17\n",
      "The sum of digits of 756: 18\n",
      "The sum of digits of 757: 19\n",
      "The sum of digits of 758: 20\n",
      "The sum of digits of 759: 21\n",
      "The sum of digits of 760: 13\n",
      "The sum of digits of 761: 14\n",
      "The sum of digits of 762: 15\n",
      "The sum of digits of 763: 16\n",
      "The sum of digits of 764: 17\n",
      "The sum of digits of 765: 18\n",
      "The sum of digits of 766: 19\n",
      "The sum of digits of 767: 20\n",
      "The sum of digits of 768: 21\n",
      "The sum of digits of 769: 22\n",
      "The sum of digits of 770: 14\n",
      "The sum of digits of 771: 15\n",
      "The sum of digits of 772: 16\n",
      "The sum of digits of 773: 17\n",
      "The sum of digits of 774: 18\n",
      "The sum of digits of 775: 19\n",
      "The sum of digits of 776: 20\n",
      "The sum of digits of 777: 21\n",
      "The sum of digits of 778: 22\n",
      "The sum of digits of 779: 23\n",
      "The sum of digits of 780: 15\n",
      "The sum of digits of 781: 16\n",
      "The sum of digits of 782: 17\n",
      "The sum of digits of 783: 18\n",
      "The sum of digits of 784: 19\n",
      "The sum of digits of 785: 20\n",
      "The sum of digits of 786: 21\n",
      "The sum of digits of 787: 22\n",
      "The sum of digits of 788: 23\n",
      "The sum of digits of 789: 24\n",
      "The sum of digits of 790: 16\n",
      "The sum of digits of 791: 17\n",
      "The sum of digits of 792: 18\n",
      "The sum of digits of 793: 19\n",
      "The sum of digits of 794: 20\n",
      "The sum of digits of 795: 21\n",
      "The sum of digits of 796: 22\n",
      "The sum of digits of 797: 23\n",
      "The sum of digits of 798: 24\n",
      "The sum of digits of 799: 25\n",
      "The sum of digits of 800: 8\n",
      "The sum of digits of 801: 9\n",
      "The sum of digits of 802: 10\n",
      "The sum of digits of 803: 11\n",
      "The sum of digits of 804: 12\n",
      "The sum of digits of 805: 13\n",
      "The sum of digits of 806: 14\n",
      "The sum of digits of 807: 15\n",
      "The sum of digits of 808: 16\n",
      "The sum of digits of 809: 17\n",
      "The sum of digits of 810: 9\n",
      "The sum of digits of 811: 10\n",
      "The sum of digits of 812: 11\n",
      "The sum of digits of 813: 12\n",
      "The sum of digits of 814: 13\n",
      "The sum of digits of 815: 14\n",
      "The sum of digits of 816: 15\n",
      "The sum of digits of 817: 16\n",
      "The sum of digits of 818: 17\n",
      "The sum of digits of 819: 18\n",
      "The sum of digits of 820: 10\n",
      "The sum of digits of 821: 11\n",
      "The sum of digits of 822: 12\n",
      "The sum of digits of 823: 13\n",
      "The sum of digits of 824: 14\n",
      "The sum of digits of 825: 15\n",
      "The sum of digits of 826: 16\n",
      "The sum of digits of 827: 17\n",
      "The sum of digits of 828: 18\n",
      "The sum of digits of 829: 19\n",
      "The sum of digits of 830: 11\n",
      "The sum of digits of 831: 12\n",
      "The sum of digits of 832: 13\n",
      "The sum of digits of 833: 14\n",
      "The sum of digits of 834: 15\n",
      "The sum of digits of 835: 16\n",
      "The sum of digits of 836: 17\n",
      "The sum of digits of 837: 18\n",
      "The sum of digits of 838: 19\n",
      "The sum of digits of 839: 20\n",
      "The sum of digits of 840: 12\n",
      "The sum of digits of 841: 13\n",
      "The sum of digits of 842: 14\n",
      "The sum of digits of 843: 15\n",
      "The sum of digits of 844: 16\n",
      "The sum of digits of 845: 17\n",
      "The sum of digits of 846: 18\n",
      "The sum of digits of 847: 19\n",
      "The sum of digits of 848: 20\n",
      "The sum of digits of 849: 21\n",
      "The sum of digits of 850: 13\n",
      "The sum of digits of 851: 14\n",
      "The sum of digits of 852: 15\n",
      "The sum of digits of 853: 16\n",
      "The sum of digits of 854: 17\n",
      "The sum of digits of 855: 18\n",
      "The sum of digits of 856: 19\n",
      "The sum of digits of 857: 20\n",
      "The sum of digits of 858: 21\n",
      "The sum of digits of 859: 22\n",
      "The sum of digits of 860: 14\n",
      "The sum of digits of 861: 15\n",
      "The sum of digits of 862: 16\n",
      "The sum of digits of 863: 17\n",
      "The sum of digits of 864: 18\n",
      "The sum of digits of 865: 19\n",
      "The sum of digits of 866: 20\n",
      "The sum of digits of 867: 21\n",
      "The sum of digits of 868: 22\n",
      "The sum of digits of 869: 23\n",
      "The sum of digits of 870: 15\n",
      "The sum of digits of 871: 16\n",
      "The sum of digits of 872: 17\n",
      "The sum of digits of 873: 18\n",
      "The sum of digits of 874: 19\n",
      "The sum of digits of 875: 20\n",
      "The sum of digits of 876: 21\n",
      "The sum of digits of 877: 22\n",
      "The sum of digits of 878: 23\n",
      "The sum of digits of 879: 24\n",
      "The sum of digits of 880: 16\n",
      "The sum of digits of 881: 17\n",
      "The sum of digits of 882: 18\n",
      "The sum of digits of 883: 19\n",
      "The sum of digits of 884: 20\n",
      "The sum of digits of 885: 21\n",
      "The sum of digits of 886: 22\n",
      "The sum of digits of 887: 23\n",
      "The sum of digits of 888: 24\n",
      "The sum of digits of 889: 25\n",
      "The sum of digits of 890: 17\n",
      "The sum of digits of 891: 18\n",
      "The sum of digits of 892: 19\n",
      "The sum of digits of 893: 20\n",
      "The sum of digits of 894: 21\n",
      "The sum of digits of 895: 22\n",
      "The sum of digits of 896: 23\n",
      "The sum of digits of 897: 24\n",
      "The sum of digits of 898: 25\n",
      "The sum of digits of 899: 26\n",
      "The sum of digits of 900: 9\n",
      "The sum of digits of 901: 10\n",
      "The sum of digits of 902: 11\n",
      "The sum of digits of 903: 12\n",
      "The sum of digits of 904: 13\n",
      "The sum of digits of 905: 14\n",
      "The sum of digits of 906: 15\n",
      "The sum of digits of 907: 16\n",
      "The sum of digits of 908: 17\n",
      "The sum of digits of 909: 18\n",
      "The sum of digits of 910: 10\n",
      "The sum of digits of 911: 11\n",
      "The sum of digits of 912: 12\n",
      "The sum of digits of 913: 13\n",
      "The sum of digits of 914: 14\n",
      "The sum of digits of 915: 15\n",
      "The sum of digits of 916: 16\n",
      "The sum of digits of 917: 17\n",
      "The sum of digits of 918: 18\n",
      "The sum of digits of 919: 19\n",
      "The sum of digits of 920: 11\n",
      "The sum of digits of 921: 12\n",
      "The sum of digits of 922: 13\n",
      "The sum of digits of 923: 14\n",
      "The sum of digits of 924: 15\n",
      "The sum of digits of 925: 16\n",
      "The sum of digits of 926: 17\n",
      "The sum of digits of 927: 18\n",
      "The sum of digits of 928: 19\n",
      "The sum of digits of 929: 20\n",
      "The sum of digits of 930: 12\n",
      "The sum of digits of 931: 13\n",
      "The sum of digits of 932: 14\n",
      "The sum of digits of 933: 15\n",
      "The sum of digits of 934: 16\n",
      "The sum of digits of 935: 17\n",
      "The sum of digits of 936: 18\n",
      "The sum of digits of 937: 19\n",
      "The sum of digits of 938: 20\n",
      "The sum of digits of 939: 21\n",
      "The sum of digits of 940: 13\n",
      "The sum of digits of 941: 14\n",
      "The sum of digits of 942: 15\n",
      "The sum of digits of 943: 16\n",
      "The sum of digits of 944: 17\n",
      "The sum of digits of 945: 18\n",
      "The sum of digits of 946: 19\n",
      "The sum of digits of 947: 20\n",
      "The sum of digits of 948: 21\n",
      "The sum of digits of 949: 22\n",
      "The sum of digits of 950: 14\n",
      "The sum of digits of 951: 15\n",
      "The sum of digits of 952: 16\n",
      "The sum of digits of 953: 17\n",
      "The sum of digits of 954: 18\n",
      "The sum of digits of 955: 19\n",
      "The sum of digits of 956: 20\n",
      "The sum of digits of 957: 21\n",
      "The sum of digits of 958: 22\n",
      "The sum of digits of 959: 23\n",
      "The sum of digits of 960: 15\n",
      "The sum of digits of 961: 16\n",
      "The sum of digits of 962: 17\n",
      "The sum of digits of 963: 18\n",
      "The sum of digits of 964: 19\n",
      "The sum of digits of 965: 20\n",
      "The sum of digits of 966: 21\n",
      "The sum of digits of 967: 22\n",
      "The sum of digits of 968: 23\n",
      "The sum of digits of 969: 24\n",
      "The sum of digits of 970: 16\n",
      "The sum of digits of 971: 17\n",
      "The sum of digits of 972: 18\n",
      "The sum of digits of 973: 19\n",
      "The sum of digits of 974: 20\n",
      "The sum of digits of 975: 21\n",
      "The sum of digits of 976: 22\n",
      "The sum of digits of 977: 23\n",
      "The sum of digits of 978: 24\n",
      "The sum of digits of 979: 25\n",
      "The sum of digits of 980: 17\n",
      "The sum of digits of 981: 18\n",
      "The sum of digits of 982: 19\n",
      "The sum of digits of 983: 20\n",
      "The sum of digits of 984: 21\n",
      "The sum of digits of 985: 22\n",
      "The sum of digits of 986: 23\n",
      "The sum of digits of 987: 24\n",
      "The sum of digits of 988: 25\n",
      "The sum of digits of 989: 26\n",
      "The sum of digits of 990: 18\n",
      "The sum of digits of 991: 19\n",
      "The sum of digits of 992: 20\n",
      "The sum of digits of 993: 21\n",
      "The sum of digits of 994: 22\n",
      "The sum of digits of 995: 23\n",
      "The sum of digits of 996: 24\n",
      "The sum of digits of 997: 25\n",
      "The sum of digits of 998: 26\n",
      "The sum of digits of 999: 27\n",
      "The sum of digits of 1000: 1\n"
     ]
    }
   ],
   "source": [
    "digit_sum = [sum(int(i) for i in str(n)) for n in range(1, 1001)]\n",
    "\n",
    "for idx, i in enumerate(digit_sum):\n",
    "    print(f\"The sum of digits of {idx + 1}:\", i)"
   ]
  },
  {
   "cell_type": "markdown",
   "id": "ea507665-bede-4147-8562-dd8ea408b8b6",
   "metadata": {},
   "source": [
    "40. Write a program that generates a list of prime palindromic numbers using list comprehension."
   ]
  },
  {
   "cell_type": "code",
   "execution_count": 91,
   "id": "7d49acf4-536d-49de-8607-00f94467d42e",
   "metadata": {
    "tags": []
   },
   "outputs": [
    {
     "name": "stdout",
     "output_type": "stream",
     "text": [
      "List of prime palindromic numbers up to 1000 is: [2, 3, 5, 7, 11, 101, 131, 151, 181, 191, 313, 353, 373, 383, 727, 757, 787, 797, 919, 929]\n"
     ]
    }
   ],
   "source": [
    "# Define a function to check whether the number is prime or not\n",
    "def is_prime(num):\n",
    "    if num < 2:\n",
    "        return False\n",
    "    for i in range(2, int(num**0.5) + 1):\n",
    "        if num % i == 0:\n",
    "            return False\n",
    "    return True\n",
    "\n",
    "# Define a function to check whether the number is palindrome or not\n",
    "def is_palindrome(num):\n",
    "    return str(num) == str(num)[::-1]\n",
    "\n",
    "n = 1000 \n",
    "\n",
    "prime_palindromes = [num for num in range(1, n + 1) if is_prime(num) and is_palindrome(num)]\n",
    "\n",
    "print(\"List of prime palindromic numbers up to\", n, \"is:\", prime_palindromes)"
   ]
  },
  {
   "cell_type": "code",
   "execution_count": null,
   "id": "973f688a-1654-4f5b-933c-462b956a777d",
   "metadata": {},
   "outputs": [],
   "source": []
  },
  {
   "cell_type": "code",
   "execution_count": null,
   "id": "1ab64110-5729-4394-b445-fe2ba2d86a8f",
   "metadata": {},
   "outputs": [],
   "source": []
  },
  {
   "cell_type": "code",
   "execution_count": null,
   "id": "db935ad9-8b2f-4e6c-9fb9-0104aac8d26e",
   "metadata": {},
   "outputs": [],
   "source": []
  }
 ],
 "metadata": {
  "kernelspec": {
   "display_name": "Python 3 (ipykernel)",
   "language": "python",
   "name": "python3"
  },
  "language_info": {
   "codemirror_mode": {
    "name": "ipython",
    "version": 3
   },
   "file_extension": ".py",
   "mimetype": "text/x-python",
   "name": "python",
   "nbconvert_exporter": "python",
   "pygments_lexer": "ipython3",
   "version": "3.11.5"
  }
 },
 "nbformat": 4,
 "nbformat_minor": 5
}
